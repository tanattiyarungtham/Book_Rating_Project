{
 "cells": [
  {
   "cell_type": "code",
   "execution_count": 1,
   "id": "a6a280b8-2c7e-4d16-bd83-44595b2e2e80",
   "metadata": {},
   "outputs": [],
   "source": [
    "import numpy as np\n",
    "import pandas as pd\n",
    "import matplotlib.pyplot as plt\n",
    "import seaborn as sns"
   ]
  },
  {
   "cell_type": "code",
   "execution_count": 2,
   "id": "7a4552fd-1aec-4315-a237-b2789bf1be42",
   "metadata": {},
   "outputs": [],
   "source": [
    "### Book Rating Prediction Model ###"
   ]
  },
  {
   "cell_type": "code",
   "execution_count": 3,
   "id": "e7c116c9-4be3-4c19-90b4-c5951317ac55",
   "metadata": {},
   "outputs": [],
   "source": [
    "df = pd.read_csv(\"/Users/tanattiya/Desktop/DSTI/ML/Project1/books.csv\",sep=\",\",index_col=\"bookID\")"
   ]
  },
  {
   "cell_type": "code",
   "execution_count": 4,
   "id": "e87abc4d-1ba1-4b76-8f4a-0c22bd485d55",
   "metadata": {},
   "outputs": [
    {
     "name": "stdout",
     "output_type": "stream",
     "text": [
      "                                                    title  \\\n",
      "bookID                                                      \n",
      "1       Harry Potter and the Half-Blood Prince (Harry ...   \n",
      "2       Harry Potter and the Order of the Phoenix (Har...   \n",
      "4       Harry Potter and the Chamber of Secrets (Harry...   \n",
      "5       Harry Potter and the Prisoner of Azkaban (Harr...   \n",
      "8       Harry Potter Boxed Set  Books 1-5 (Harry Potte...   \n",
      "\n",
      "                           authors average_rating        isbn    isbn13  \\\n",
      "bookID                                                                    \n",
      "1       J.K. Rowling/Mary GrandPré           4.57   439785960  9.78E+12   \n",
      "2       J.K. Rowling/Mary GrandPré           4.49   439358078  9.78E+12   \n",
      "4                     J.K. Rowling           4.42   439554896  9.78E+12   \n",
      "5       J.K. Rowling/Mary GrandPré           4.56  043965548X  9.78E+12   \n",
      "8       J.K. Rowling/Mary GrandPré           4.78   439682584  9.78E+12   \n",
      "\n",
      "       language_code num_pages  ratings_count  text_reviews_count  \\\n",
      "bookID                                                              \n",
      "1                eng       652        2095690               27591   \n",
      "2                eng       870        2153167               29221   \n",
      "4                eng       352           6333                 244   \n",
      "5                eng       435        2339585               36325   \n",
      "8                eng      2690          41428                 164   \n",
      "\n",
      "       publication_date        publisher unnamed  \n",
      "bookID                                            \n",
      "1             9/16/2006  Scholastic Inc.     NaN  \n",
      "2              9/1/2004  Scholastic Inc.     NaN  \n",
      "4             11/1/2003       Scholastic     NaN  \n",
      "5              5/1/2004  Scholastic Inc.     NaN  \n",
      "8             9/13/2004       Scholastic     NaN  \n"
     ]
    }
   ],
   "source": [
    "# Replace 'your_detected_encoding' with the actual encoding detected, e.g., 'utf-8'\n",
    "df = pd.read_csv('/Users/tanattiya/Desktop/DSTI/ML/Project1/books.csv', index_col=\"bookID\", encoding='utf-8')\n",
    "\n",
    "# Print the DataFrame to verify that the text is readabl\n",
    "print(df.head())"
   ]
  },
  {
   "cell_type": "code",
   "execution_count": 5,
   "id": "f8b919a8-6eca-45de-8141-9b9729588839",
   "metadata": {},
   "outputs": [
    {
     "data": {
      "text/plain": [
       "pandas.core.frame.DataFrame"
      ]
     },
     "execution_count": 5,
     "metadata": {},
     "output_type": "execute_result"
    }
   ],
   "source": [
    "type(df)"
   ]
  },
  {
   "cell_type": "code",
   "execution_count": 6,
   "id": "4f6f4aae-e2ca-45c4-bfd6-92fa5fb61c98",
   "metadata": {},
   "outputs": [
    {
     "data": {
      "text/html": [
       "<div>\n",
       "<style scoped>\n",
       "    .dataframe tbody tr th:only-of-type {\n",
       "        vertical-align: middle;\n",
       "    }\n",
       "\n",
       "    .dataframe tbody tr th {\n",
       "        vertical-align: top;\n",
       "    }\n",
       "\n",
       "    .dataframe thead th {\n",
       "        text-align: right;\n",
       "    }\n",
       "</style>\n",
       "<table border=\"1\" class=\"dataframe\">\n",
       "  <thead>\n",
       "    <tr style=\"text-align: right;\">\n",
       "      <th></th>\n",
       "      <th>title</th>\n",
       "      <th>authors</th>\n",
       "      <th>average_rating</th>\n",
       "      <th>isbn</th>\n",
       "      <th>isbn13</th>\n",
       "      <th>language_code</th>\n",
       "      <th>num_pages</th>\n",
       "      <th>ratings_count</th>\n",
       "      <th>text_reviews_count</th>\n",
       "      <th>publication_date</th>\n",
       "      <th>publisher</th>\n",
       "      <th>unnamed</th>\n",
       "    </tr>\n",
       "    <tr>\n",
       "      <th>bookID</th>\n",
       "      <th></th>\n",
       "      <th></th>\n",
       "      <th></th>\n",
       "      <th></th>\n",
       "      <th></th>\n",
       "      <th></th>\n",
       "      <th></th>\n",
       "      <th></th>\n",
       "      <th></th>\n",
       "      <th></th>\n",
       "      <th></th>\n",
       "      <th></th>\n",
       "    </tr>\n",
       "  </thead>\n",
       "  <tbody>\n",
       "    <tr>\n",
       "      <th>1</th>\n",
       "      <td>Harry Potter and the Half-Blood Prince (Harry ...</td>\n",
       "      <td>J.K. Rowling/Mary GrandPré</td>\n",
       "      <td>4.57</td>\n",
       "      <td>439785960</td>\n",
       "      <td>9.78E+12</td>\n",
       "      <td>eng</td>\n",
       "      <td>652</td>\n",
       "      <td>2095690</td>\n",
       "      <td>27591</td>\n",
       "      <td>9/16/2006</td>\n",
       "      <td>Scholastic Inc.</td>\n",
       "      <td>NaN</td>\n",
       "    </tr>\n",
       "    <tr>\n",
       "      <th>2</th>\n",
       "      <td>Harry Potter and the Order of the Phoenix (Har...</td>\n",
       "      <td>J.K. Rowling/Mary GrandPré</td>\n",
       "      <td>4.49</td>\n",
       "      <td>439358078</td>\n",
       "      <td>9.78E+12</td>\n",
       "      <td>eng</td>\n",
       "      <td>870</td>\n",
       "      <td>2153167</td>\n",
       "      <td>29221</td>\n",
       "      <td>9/1/2004</td>\n",
       "      <td>Scholastic Inc.</td>\n",
       "      <td>NaN</td>\n",
       "    </tr>\n",
       "    <tr>\n",
       "      <th>4</th>\n",
       "      <td>Harry Potter and the Chamber of Secrets (Harry...</td>\n",
       "      <td>J.K. Rowling</td>\n",
       "      <td>4.42</td>\n",
       "      <td>439554896</td>\n",
       "      <td>9.78E+12</td>\n",
       "      <td>eng</td>\n",
       "      <td>352</td>\n",
       "      <td>6333</td>\n",
       "      <td>244</td>\n",
       "      <td>11/1/2003</td>\n",
       "      <td>Scholastic</td>\n",
       "      <td>NaN</td>\n",
       "    </tr>\n",
       "    <tr>\n",
       "      <th>5</th>\n",
       "      <td>Harry Potter and the Prisoner of Azkaban (Harr...</td>\n",
       "      <td>J.K. Rowling/Mary GrandPré</td>\n",
       "      <td>4.56</td>\n",
       "      <td>043965548X</td>\n",
       "      <td>9.78E+12</td>\n",
       "      <td>eng</td>\n",
       "      <td>435</td>\n",
       "      <td>2339585</td>\n",
       "      <td>36325</td>\n",
       "      <td>5/1/2004</td>\n",
       "      <td>Scholastic Inc.</td>\n",
       "      <td>NaN</td>\n",
       "    </tr>\n",
       "    <tr>\n",
       "      <th>8</th>\n",
       "      <td>Harry Potter Boxed Set  Books 1-5 (Harry Potte...</td>\n",
       "      <td>J.K. Rowling/Mary GrandPré</td>\n",
       "      <td>4.78</td>\n",
       "      <td>439682584</td>\n",
       "      <td>9.78E+12</td>\n",
       "      <td>eng</td>\n",
       "      <td>2690</td>\n",
       "      <td>41428</td>\n",
       "      <td>164</td>\n",
       "      <td>9/13/2004</td>\n",
       "      <td>Scholastic</td>\n",
       "      <td>NaN</td>\n",
       "    </tr>\n",
       "    <tr>\n",
       "      <th>9</th>\n",
       "      <td>Unauthorized Harry Potter Book Seven News: \"Ha...</td>\n",
       "      <td>W. Frederick Zimmerman</td>\n",
       "      <td>3.74</td>\n",
       "      <td>976540606</td>\n",
       "      <td>9.78E+12</td>\n",
       "      <td>en-US</td>\n",
       "      <td>152</td>\n",
       "      <td>19</td>\n",
       "      <td>1</td>\n",
       "      <td>4/26/2005</td>\n",
       "      <td>Nimble Books</td>\n",
       "      <td>NaN</td>\n",
       "    </tr>\n",
       "    <tr>\n",
       "      <th>10</th>\n",
       "      <td>Harry Potter Collection (Harry Potter  #1-6)</td>\n",
       "      <td>J.K. Rowling</td>\n",
       "      <td>4.73</td>\n",
       "      <td>439827604</td>\n",
       "      <td>9.78E+12</td>\n",
       "      <td>eng</td>\n",
       "      <td>3342</td>\n",
       "      <td>28242</td>\n",
       "      <td>808</td>\n",
       "      <td>9/12/2005</td>\n",
       "      <td>Scholastic</td>\n",
       "      <td>NaN</td>\n",
       "    </tr>\n",
       "    <tr>\n",
       "      <th>12</th>\n",
       "      <td>The Ultimate Hitchhiker's Guide: Five Complete...</td>\n",
       "      <td>Douglas Adams</td>\n",
       "      <td>4.38</td>\n",
       "      <td>517226952</td>\n",
       "      <td>9.78E+12</td>\n",
       "      <td>eng</td>\n",
       "      <td>815</td>\n",
       "      <td>3628</td>\n",
       "      <td>254</td>\n",
       "      <td>11/1/2005</td>\n",
       "      <td>Gramercy Books</td>\n",
       "      <td>NaN</td>\n",
       "    </tr>\n",
       "    <tr>\n",
       "      <th>13</th>\n",
       "      <td>The Ultimate Hitchhiker's Guide to the Galaxy ...</td>\n",
       "      <td>Douglas Adams</td>\n",
       "      <td>4.38</td>\n",
       "      <td>345453743</td>\n",
       "      <td>9.78E+12</td>\n",
       "      <td>eng</td>\n",
       "      <td>815</td>\n",
       "      <td>249558</td>\n",
       "      <td>4080</td>\n",
       "      <td>4/30/2002</td>\n",
       "      <td>Del Rey Books</td>\n",
       "      <td>NaN</td>\n",
       "    </tr>\n",
       "    <tr>\n",
       "      <th>14</th>\n",
       "      <td>The Hitchhiker's Guide to the Galaxy (Hitchhik...</td>\n",
       "      <td>Douglas Adams</td>\n",
       "      <td>4.22</td>\n",
       "      <td>1400052920</td>\n",
       "      <td>9.78E+12</td>\n",
       "      <td>eng</td>\n",
       "      <td>215</td>\n",
       "      <td>4930</td>\n",
       "      <td>460</td>\n",
       "      <td>8/3/2004</td>\n",
       "      <td>Crown</td>\n",
       "      <td>NaN</td>\n",
       "    </tr>\n",
       "  </tbody>\n",
       "</table>\n",
       "</div>"
      ],
      "text/plain": [
       "                                                    title  \\\n",
       "bookID                                                      \n",
       "1       Harry Potter and the Half-Blood Prince (Harry ...   \n",
       "2       Harry Potter and the Order of the Phoenix (Har...   \n",
       "4       Harry Potter and the Chamber of Secrets (Harry...   \n",
       "5       Harry Potter and the Prisoner of Azkaban (Harr...   \n",
       "8       Harry Potter Boxed Set  Books 1-5 (Harry Potte...   \n",
       "9       Unauthorized Harry Potter Book Seven News: \"Ha...   \n",
       "10           Harry Potter Collection (Harry Potter  #1-6)   \n",
       "12      The Ultimate Hitchhiker's Guide: Five Complete...   \n",
       "13      The Ultimate Hitchhiker's Guide to the Galaxy ...   \n",
       "14      The Hitchhiker's Guide to the Galaxy (Hitchhik...   \n",
       "\n",
       "                           authors average_rating        isbn    isbn13  \\\n",
       "bookID                                                                    \n",
       "1       J.K. Rowling/Mary GrandPré           4.57   439785960  9.78E+12   \n",
       "2       J.K. Rowling/Mary GrandPré           4.49   439358078  9.78E+12   \n",
       "4                     J.K. Rowling           4.42   439554896  9.78E+12   \n",
       "5       J.K. Rowling/Mary GrandPré           4.56  043965548X  9.78E+12   \n",
       "8       J.K. Rowling/Mary GrandPré           4.78   439682584  9.78E+12   \n",
       "9           W. Frederick Zimmerman           3.74   976540606  9.78E+12   \n",
       "10                    J.K. Rowling           4.73   439827604  9.78E+12   \n",
       "12                   Douglas Adams           4.38   517226952  9.78E+12   \n",
       "13                   Douglas Adams           4.38   345453743  9.78E+12   \n",
       "14                   Douglas Adams           4.22  1400052920  9.78E+12   \n",
       "\n",
       "       language_code num_pages  ratings_count  text_reviews_count  \\\n",
       "bookID                                                              \n",
       "1                eng       652        2095690               27591   \n",
       "2                eng       870        2153167               29221   \n",
       "4                eng       352           6333                 244   \n",
       "5                eng       435        2339585               36325   \n",
       "8                eng      2690          41428                 164   \n",
       "9              en-US       152             19                   1   \n",
       "10               eng      3342          28242                 808   \n",
       "12               eng       815           3628                 254   \n",
       "13               eng       815         249558                4080   \n",
       "14               eng       215           4930                 460   \n",
       "\n",
       "       publication_date        publisher unnamed  \n",
       "bookID                                            \n",
       "1             9/16/2006  Scholastic Inc.     NaN  \n",
       "2              9/1/2004  Scholastic Inc.     NaN  \n",
       "4             11/1/2003       Scholastic     NaN  \n",
       "5              5/1/2004  Scholastic Inc.     NaN  \n",
       "8             9/13/2004       Scholastic     NaN  \n",
       "9             4/26/2005     Nimble Books     NaN  \n",
       "10            9/12/2005       Scholastic     NaN  \n",
       "12            11/1/2005   Gramercy Books     NaN  \n",
       "13            4/30/2002    Del Rey Books     NaN  \n",
       "14             8/3/2004            Crown     NaN  "
      ]
     },
     "execution_count": 6,
     "metadata": {},
     "output_type": "execute_result"
    }
   ],
   "source": [
    "df.head(10)"
   ]
  },
  {
   "cell_type": "code",
   "execution_count": 7,
   "id": "87d59e09-345b-4ba4-99b5-fb63f2b00ba5",
   "metadata": {},
   "outputs": [
    {
     "data": {
      "text/plain": [
       "(11127, 12)"
      ]
     },
     "execution_count": 7,
     "metadata": {},
     "output_type": "execute_result"
    }
   ],
   "source": [
    "df.shape"
   ]
  },
  {
   "cell_type": "code",
   "execution_count": 8,
   "id": "43e49409-90ce-46a5-9c4d-830f07e710e9",
   "metadata": {},
   "outputs": [
    {
     "name": "stdout",
     "output_type": "stream",
     "text": [
      "<class 'pandas.core.frame.DataFrame'>\n",
      "Index: 11127 entries, 1 to 45641\n",
      "Data columns (total 12 columns):\n",
      " #   Column              Non-Null Count  Dtype \n",
      "---  ------              --------------  ----- \n",
      " 0   title               11127 non-null  object\n",
      " 1   authors             11127 non-null  object\n",
      " 2   average_rating      11127 non-null  object\n",
      " 3   isbn                11127 non-null  object\n",
      " 4   isbn13              11127 non-null  object\n",
      " 5   language_code       11127 non-null  object\n",
      " 6   num_pages           11127 non-null  object\n",
      " 7   ratings_count       11127 non-null  int64 \n",
      " 8   text_reviews_count  11127 non-null  int64 \n",
      " 9   publication_date    11127 non-null  object\n",
      " 10  publisher           11127 non-null  object\n",
      " 11  unnamed             4 non-null      object\n",
      "dtypes: int64(2), object(10)\n",
      "memory usage: 1.1+ MB\n"
     ]
    }
   ],
   "source": [
    "df.info()"
   ]
  },
  {
   "cell_type": "markdown",
   "id": "11de2381-002a-47f1-a033-c7c35e9f31da",
   "metadata": {},
   "source": [
    "Check dimension of the data"
   ]
  },
  {
   "cell_type": "code",
   "execution_count": 10,
   "id": "b40abcd8-6de9-4cc9-a5c5-009574209959",
   "metadata": {},
   "outputs": [
    {
     "data": {
      "text/plain": [
       "2"
      ]
     },
     "execution_count": 10,
     "metadata": {},
     "output_type": "execute_result"
    }
   ],
   "source": [
    "df.ndim"
   ]
  },
  {
   "cell_type": "code",
   "execution_count": 11,
   "id": "f3d8825d-c2ae-4899-8a1c-df7fa6fe4fde",
   "metadata": {},
   "outputs": [
    {
     "data": {
      "text/html": [
       "<div>\n",
       "<style scoped>\n",
       "    .dataframe tbody tr th:only-of-type {\n",
       "        vertical-align: middle;\n",
       "    }\n",
       "\n",
       "    .dataframe tbody tr th {\n",
       "        vertical-align: top;\n",
       "    }\n",
       "\n",
       "    .dataframe thead th {\n",
       "        text-align: right;\n",
       "    }\n",
       "</style>\n",
       "<table border=\"1\" class=\"dataframe\">\n",
       "  <thead>\n",
       "    <tr style=\"text-align: right;\">\n",
       "      <th></th>\n",
       "      <th>ratings_count</th>\n",
       "      <th>text_reviews_count</th>\n",
       "    </tr>\n",
       "  </thead>\n",
       "  <tbody>\n",
       "    <tr>\n",
       "      <th>count</th>\n",
       "      <td>1.112700e+04</td>\n",
       "      <td>11127.000000</td>\n",
       "    </tr>\n",
       "    <tr>\n",
       "      <th>mean</th>\n",
       "      <td>1.793649e+04</td>\n",
       "      <td>541.864474</td>\n",
       "    </tr>\n",
       "    <tr>\n",
       "      <th>std</th>\n",
       "      <td>1.124794e+05</td>\n",
       "      <td>2576.174610</td>\n",
       "    </tr>\n",
       "    <tr>\n",
       "      <th>min</th>\n",
       "      <td>0.000000e+00</td>\n",
       "      <td>0.000000</td>\n",
       "    </tr>\n",
       "    <tr>\n",
       "      <th>25%</th>\n",
       "      <td>1.040000e+02</td>\n",
       "      <td>9.000000</td>\n",
       "    </tr>\n",
       "    <tr>\n",
       "      <th>50%</th>\n",
       "      <td>7.450000e+02</td>\n",
       "      <td>47.000000</td>\n",
       "    </tr>\n",
       "    <tr>\n",
       "      <th>75%</th>\n",
       "      <td>4.993500e+03</td>\n",
       "      <td>237.500000</td>\n",
       "    </tr>\n",
       "    <tr>\n",
       "      <th>max</th>\n",
       "      <td>4.597666e+06</td>\n",
       "      <td>94265.000000</td>\n",
       "    </tr>\n",
       "  </tbody>\n",
       "</table>\n",
       "</div>"
      ],
      "text/plain": [
       "       ratings_count  text_reviews_count\n",
       "count   1.112700e+04        11127.000000\n",
       "mean    1.793649e+04          541.864474\n",
       "std     1.124794e+05         2576.174610\n",
       "min     0.000000e+00            0.000000\n",
       "25%     1.040000e+02            9.000000\n",
       "50%     7.450000e+02           47.000000\n",
       "75%     4.993500e+03          237.500000\n",
       "max     4.597666e+06        94265.000000"
      ]
     },
     "execution_count": 11,
     "metadata": {},
     "output_type": "execute_result"
    }
   ],
   "source": [
    "df.describe()"
   ]
  },
  {
   "cell_type": "code",
   "execution_count": 12,
   "id": "54486abd-dc00-4122-a10a-1b29be3285ec",
   "metadata": {},
   "outputs": [
    {
     "data": {
      "text/plain": [
       "Index(['title', 'authors', 'average_rating', 'isbn', 'isbn13', 'language_code',\n",
       "       'num_pages', 'ratings_count', 'text_reviews_count', 'publication_date',\n",
       "       'publisher', 'unnamed'],\n",
       "      dtype='object')"
      ]
     },
     "execution_count": 12,
     "metadata": {},
     "output_type": "execute_result"
    }
   ],
   "source": [
    "df.columns[:]"
   ]
  },
  {
   "cell_type": "code",
   "execution_count": 13,
   "id": "a441044f-5e07-4b7b-8426-920165951b99",
   "metadata": {},
   "outputs": [
    {
     "data": {
      "text/plain": [
       "title                                 The Tolkien Fan's Medieval Reader\n",
       "authors                        David E. Smith (Turgon of TheOneRing.net\n",
       "average_rating         one of the founding members of this Tolkien w...\n",
       "isbn                                                               3.58\n",
       "isbn13                                                       1593600119\n",
       "language_code                                                  9.78E+12\n",
       "num_pages                                                           eng\n",
       "ratings_count                                                       400\n",
       "text_reviews_count                                                   26\n",
       "publication_date                                                      4\n",
       "publisher                                                      4/6/2004\n",
       "unnamed                                               Cold Spring Press\n",
       "Name: 16914, dtype: object"
      ]
     },
     "execution_count": 13,
     "metadata": {},
     "output_type": "execute_result"
    }
   ],
   "source": [
    "df.loc[16914]"
   ]
  },
  {
   "cell_type": "code",
   "execution_count": 14,
   "id": "45b59371-091d-4d8e-9b48-484e2d969814",
   "metadata": {},
   "outputs": [],
   "source": [
    "df['authors'].replace(\"David E. Smith (Turgon of TheOneRing.net\",\"David E. Smith\",inplace=True)"
   ]
  },
  {
   "cell_type": "code",
   "execution_count": 15,
   "id": "3874bc81-b950-491d-8a01-f353002594d6",
   "metadata": {},
   "outputs": [
    {
     "data": {
      "text/plain": [
       "title                                 The Tolkien Fan's Medieval Reader\n",
       "authors                                                  David E. Smith\n",
       "average_rating         one of the founding members of this Tolkien w...\n",
       "isbn                                                               3.58\n",
       "isbn13                                                       1593600119\n",
       "language_code                                                  9.78E+12\n",
       "num_pages                                                           eng\n",
       "ratings_count                                                       400\n",
       "text_reviews_count                                                   26\n",
       "publication_date                                                      4\n",
       "publisher                                                      4/6/2004\n",
       "unnamed                                               Cold Spring Press\n",
       "Name: 16914, dtype: object"
      ]
     },
     "execution_count": 15,
     "metadata": {},
     "output_type": "execute_result"
    }
   ],
   "source": [
    "df.loc[16914]"
   ]
  },
  {
   "cell_type": "code",
   "execution_count": 16,
   "id": "fb5bdac1-f959-451a-9b9e-8df93b9f5284",
   "metadata": {},
   "outputs": [],
   "source": [
    "df['average_rating'].replace(\" one of the founding members of this Tolkien website)/Verlyn Flieger/Turgon (=David E. Smith)\",np.nan,inplace=True)"
   ]
  },
  {
   "cell_type": "code",
   "execution_count": 17,
   "id": "d794bf89-141b-4f39-b86a-a712af0d8d1c",
   "metadata": {},
   "outputs": [
    {
     "data": {
      "text/plain": [
       "title                 The Tolkien Fan's Medieval Reader\n",
       "authors                                  David E. Smith\n",
       "average_rating                                      NaN\n",
       "isbn                                               3.58\n",
       "isbn13                                       1593600119\n",
       "language_code                                  9.78E+12\n",
       "num_pages                                           eng\n",
       "ratings_count                                       400\n",
       "text_reviews_count                                   26\n",
       "publication_date                                      4\n",
       "publisher                                      4/6/2004\n",
       "unnamed                               Cold Spring Press\n",
       "Name: 16914, dtype: object"
      ]
     },
     "execution_count": 17,
     "metadata": {},
     "output_type": "execute_result"
    }
   ],
   "source": [
    "df.loc[16914]"
   ]
  },
  {
   "cell_type": "code",
   "execution_count": 18,
   "id": "ceda5dba-cbda-4614-835b-4b37d63332a5",
   "metadata": {},
   "outputs": [],
   "source": [
    "#concatonate authors from col. authors and average_rating\n",
    "combined_value1 = df.loc[12224,'authors']+df.loc[12224,'average_rating']\n",
    "df.loc[12224,'authors'] = combined_value1\n",
    "#combined_value2 = df.loc[16914,'authors']+df.loc[16914,'average_rating']\n",
    "#df.loc[16914,'authors'] = combined_value2\n",
    "combined_value3 = df.loc[22128,'authors']+df.loc[22128,'average_rating']\n",
    "df.loc[22128,'authors'] = combined_value3\n",
    "combined_value4 = df.loc[34889,'authors']+df.loc[34889,'average_rating']\n",
    "df.loc[34889,'authors'] = combined_value4"
   ]
  },
  {
   "cell_type": "code",
   "execution_count": 19,
   "id": "eca129db-6888-428d-aa2a-f3cc0e672c0e",
   "metadata": {},
   "outputs": [],
   "source": [
    "#replace the unfinished author list with the concatonated values aboved\n",
    "df.loc[12224,'authors'] = combined_value1\n",
    "#df.loc[16914,'authors'] = combined_value2\n",
    "df.loc[22128,'authors'] = combined_value3\n",
    "df.loc[34889,'authors'] = combined_value4"
   ]
  },
  {
   "cell_type": "code",
   "execution_count": 20,
   "id": "77388367-7372-40b5-9b05-04a90925d61f",
   "metadata": {},
   "outputs": [
    {
     "name": "stderr",
     "output_type": "stream",
     "text": [
      "/var/folders/wt/1ks7v8xn6xldgx30hcx0hsch0000gn/T/ipykernel_10411/2220463412.py:8: FutureWarning: Setting an item of incompatible dtype is deprecated and will raise in a future error of pandas. Value '6' has dtype incompatible with int64, please explicitly cast to a compatible dtype first.\n",
      "  df.loc[12224,'text_reviews_count'] = df.loc[12224,'publication_date']\n"
     ]
    }
   ],
   "source": [
    "#readjust misaligned columns values by shifting all columns to the left\n",
    "df.loc[12224,'average_rating'] = df.loc[12224,'isbn']\n",
    "df.loc[12224,'isbn'] = df.loc[12224,'isbn13']\n",
    "df.loc[12224,'isbn13'] = df.loc[12224,'language_code']\n",
    "df.loc[12224,'language_code'] = df.loc[12224,'num_pages']\n",
    "df.loc[12224,'num_pages'] = df.loc[12224,'ratings_count']\n",
    "df.loc[12224,'ratings_count'] = df.loc[12224,'text_reviews_count']\n",
    "df.loc[12224,'text_reviews_count'] = df.loc[12224,'publication_date']\n",
    "df.loc[12224,'publication_date'] = df.loc[12224,'publisher']\n",
    "df.loc[12224,'publisher'] = df.loc[12224,'unnamed']\n",
    "\n",
    "df.loc[16914,'average_rating'] = df.loc[16914,'isbn']\n",
    "df.loc[16914,'isbn'] = df.loc[16914,'isbn13']\n",
    "df.loc[16914,'isbn13'] = df.loc[16914,'language_code']\n",
    "df.loc[16914,'language_code'] = df.loc[16914,'num_pages']\n",
    "df.loc[16914,'num_pages'] = df.loc[16914,'ratings_count']\n",
    "df.loc[16914,'ratings_count'] = df.loc[16914,'text_reviews_count']\n",
    "df.loc[16914,'text_reviews_count'] = df.loc[16914,'publication_date']\n",
    "df.loc[16914,'publication_date'] = df.loc[16914,'publisher']\n",
    "df.loc[16914,'publisher'] = df.loc[16914,'unnamed']\n",
    "\n",
    "df.loc[22128,'average_rating'] = df.loc[22128,'isbn']\n",
    "df.loc[22128,'isbn'] = df.loc[22128,'isbn13']\n",
    "df.loc[22128,'isbn13'] = df.loc[22128,'language_code']\n",
    "df.loc[22128,'language_code'] = df.loc[22128,'num_pages']\n",
    "df.loc[22128,'num_pages'] = df.loc[22128,'ratings_count']\n",
    "df.loc[22128,'ratings_count'] = df.loc[22128,'text_reviews_count']\n",
    "df.loc[22128,'text_reviews_count'] = df.loc[22128,'publication_date']\n",
    "df.loc[22128,'publication_date'] = df.loc[22128,'publisher']\n",
    "df.loc[22128,'publisher'] = df.loc[22128,'unnamed']\n",
    "\n",
    "df.loc[34889,'average_rating'] = df.loc[34889,'isbn']\n",
    "df.loc[34889,'isbn'] = df.loc[34889,'isbn13']\n",
    "df.loc[34889,'isbn13'] = df.loc[34889,'language_code']\n",
    "df.loc[34889,'language_code'] = df.loc[34889,'num_pages']\n",
    "df.loc[34889,'num_pages'] = df.loc[34889,'ratings_count']\n",
    "df.loc[34889,'ratings_count'] = df.loc[34889,'text_reviews_count']\n",
    "df.loc[34889,'text_reviews_count'] = df.loc[34889,'publication_date']\n",
    "df.loc[34889,'publication_date'] = df.loc[34889,'publisher']\n",
    "df.loc[34889,'publisher'] = df.loc[34889,'unnamed']"
   ]
  },
  {
   "cell_type": "code",
   "execution_count": 21,
   "id": "0cf7fd34-fba1-4965-8426-7789bac531c6",
   "metadata": {},
   "outputs": [
    {
     "data": {
      "text/plain": [
       "title                 Patriots (The Coming Collapse)\n",
       "authors                          James Wesley Rawles\n",
       "average_rating                                  3.63\n",
       "isbn                                      156384155X\n",
       "isbn13                                      9.78E+12\n",
       "language_code                                    eng\n",
       "num_pages                                        342\n",
       "ratings_count                                     38\n",
       "text_reviews_count                                 4\n",
       "publication_date                           1/15/1999\n",
       "publisher                Huntington House Publishers\n",
       "unnamed                  Huntington House Publishers\n",
       "Name: 22128, dtype: object"
      ]
     },
     "execution_count": 21,
     "metadata": {},
     "output_type": "execute_result"
    }
   ],
   "source": [
    "df.loc[22128]"
   ]
  },
  {
   "cell_type": "code",
   "execution_count": 22,
   "id": "b7e32827-3108-461a-a355-846f10350252",
   "metadata": {},
   "outputs": [],
   "source": [
    "df.drop(columns='unnamed',axis=1,inplace=True)"
   ]
  },
  {
   "cell_type": "code",
   "execution_count": 23,
   "id": "1f966cb4-1e20-4563-8db1-f94b02bdc4cf",
   "metadata": {},
   "outputs": [
    {
     "data": {
      "text/html": [
       "<div>\n",
       "<style scoped>\n",
       "    .dataframe tbody tr th:only-of-type {\n",
       "        vertical-align: middle;\n",
       "    }\n",
       "\n",
       "    .dataframe tbody tr th {\n",
       "        vertical-align: top;\n",
       "    }\n",
       "\n",
       "    .dataframe thead th {\n",
       "        text-align: right;\n",
       "    }\n",
       "</style>\n",
       "<table border=\"1\" class=\"dataframe\">\n",
       "  <thead>\n",
       "    <tr style=\"text-align: right;\">\n",
       "      <th></th>\n",
       "      <th>title</th>\n",
       "      <th>authors</th>\n",
       "      <th>average_rating</th>\n",
       "      <th>isbn</th>\n",
       "      <th>isbn13</th>\n",
       "      <th>language_code</th>\n",
       "      <th>num_pages</th>\n",
       "      <th>ratings_count</th>\n",
       "      <th>text_reviews_count</th>\n",
       "      <th>publication_date</th>\n",
       "      <th>publisher</th>\n",
       "    </tr>\n",
       "    <tr>\n",
       "      <th>bookID</th>\n",
       "      <th></th>\n",
       "      <th></th>\n",
       "      <th></th>\n",
       "      <th></th>\n",
       "      <th></th>\n",
       "      <th></th>\n",
       "      <th></th>\n",
       "      <th></th>\n",
       "      <th></th>\n",
       "      <th></th>\n",
       "      <th></th>\n",
       "    </tr>\n",
       "  </thead>\n",
       "  <tbody>\n",
       "    <tr>\n",
       "      <th>1</th>\n",
       "      <td>Harry Potter and the Half-Blood Prince (Harry ...</td>\n",
       "      <td>J.K. Rowling/Mary GrandPré</td>\n",
       "      <td>4.57</td>\n",
       "      <td>439785960</td>\n",
       "      <td>9.78E+12</td>\n",
       "      <td>eng</td>\n",
       "      <td>652</td>\n",
       "      <td>2095690</td>\n",
       "      <td>27591</td>\n",
       "      <td>9/16/2006</td>\n",
       "      <td>Scholastic Inc.</td>\n",
       "    </tr>\n",
       "    <tr>\n",
       "      <th>2</th>\n",
       "      <td>Harry Potter and the Order of the Phoenix (Har...</td>\n",
       "      <td>J.K. Rowling/Mary GrandPré</td>\n",
       "      <td>4.49</td>\n",
       "      <td>439358078</td>\n",
       "      <td>9.78E+12</td>\n",
       "      <td>eng</td>\n",
       "      <td>870</td>\n",
       "      <td>2153167</td>\n",
       "      <td>29221</td>\n",
       "      <td>9/1/2004</td>\n",
       "      <td>Scholastic Inc.</td>\n",
       "    </tr>\n",
       "  </tbody>\n",
       "</table>\n",
       "</div>"
      ],
      "text/plain": [
       "                                                    title  \\\n",
       "bookID                                                      \n",
       "1       Harry Potter and the Half-Blood Prince (Harry ...   \n",
       "2       Harry Potter and the Order of the Phoenix (Har...   \n",
       "\n",
       "                           authors average_rating       isbn    isbn13  \\\n",
       "bookID                                                                   \n",
       "1       J.K. Rowling/Mary GrandPré           4.57  439785960  9.78E+12   \n",
       "2       J.K. Rowling/Mary GrandPré           4.49  439358078  9.78E+12   \n",
       "\n",
       "       language_code num_pages  ratings_count text_reviews_count  \\\n",
       "bookID                                                             \n",
       "1                eng       652        2095690              27591   \n",
       "2                eng       870        2153167              29221   \n",
       "\n",
       "       publication_date        publisher  \n",
       "bookID                                    \n",
       "1             9/16/2006  Scholastic Inc.  \n",
       "2              9/1/2004  Scholastic Inc.  "
      ]
     },
     "execution_count": 23,
     "metadata": {},
     "output_type": "execute_result"
    }
   ],
   "source": [
    "df.head(2)"
   ]
  },
  {
   "cell_type": "code",
   "execution_count": 24,
   "id": "6f21e854-e8ab-445a-bd97-45b780cefc92",
   "metadata": {},
   "outputs": [
    {
     "data": {
      "text/plain": [
       "title                 0\n",
       "authors               0\n",
       "average_rating        0\n",
       "isbn                  0\n",
       "isbn13                0\n",
       "language_code         0\n",
       "num_pages             0\n",
       "ratings_count         0\n",
       "text_reviews_count    0\n",
       "publication_date      0\n",
       "publisher             0\n",
       "dtype: int64"
      ]
     },
     "execution_count": 24,
     "metadata": {},
     "output_type": "execute_result"
    }
   ],
   "source": [
    "df.isna().sum()"
   ]
  },
  {
   "cell_type": "markdown",
   "id": "f81d7dca-6e62-4993-a316-2627b9908f56",
   "metadata": {},
   "source": [
    "\n",
    "# Function to check if all values in a column have the same type\n",
    "def check_column_dtype(column):\n",
    "    return column.apply(type).nunique() == 1\n",
    "\n",
    "# Apply the function to each column\n",
    "same_dtype = df.apply(check_column_dtype)\n",
    "\n",
    "print(\"\\nColumns where all values have the same datatype:\")\n",
    "print(same_dtype)\n",
    "\n",
    "# Columns with mixed datatypes\n",
    "mixed_dtype_columns = same_dtype[same_dtype == False].index\n",
    "print(\"\\nColumns with mixed datatypes:\")\n",
    "print(mixed_dtype_columns)\n",
    "\n",
    "# Print unique data types in mixed datatype columns\n",
    "for col in mixed_dtype_columns:\n",
    "    unique_types = df[col].apply(type).unique()\n",
    "    print(f\"\\nUnique data types in column '{col}':\")\n",
    "    for t in unique_types:\n",
    "        print(f\"- {t}\")\n",
    "\n",
    "# Example of accessing a specific value from the first row (index 0) of a specific column\n",
    "value = df.iloc[0]['title']\n",
    "print(\"\\nValue from the first row (index 0) of the 'title' column:\")\n",
    "print(value)"
   ]
  },
  {
   "cell_type": "code",
   "execution_count": 26,
   "id": "e99efeb4-5eac-4b08-85ae-a081059a2e85",
   "metadata": {},
   "outputs": [
    {
     "name": "stdout",
     "output_type": "stream",
     "text": [
      "<class 'pandas.core.frame.DataFrame'>\n",
      "Index: 11127 entries, 1 to 45641\n",
      "Data columns (total 11 columns):\n",
      " #   Column              Non-Null Count  Dtype \n",
      "---  ------              --------------  ----- \n",
      " 0   title               11127 non-null  object\n",
      " 1   authors             11127 non-null  object\n",
      " 2   average_rating      11127 non-null  object\n",
      " 3   isbn                11127 non-null  object\n",
      " 4   isbn13              11127 non-null  object\n",
      " 5   language_code       11127 non-null  object\n",
      " 6   num_pages           11127 non-null  object\n",
      " 7   ratings_count       11127 non-null  int64 \n",
      " 8   text_reviews_count  11127 non-null  object\n",
      " 9   publication_date    11127 non-null  object\n",
      " 10  publisher           11127 non-null  object\n",
      "dtypes: int64(1), object(10)\n",
      "memory usage: 1.3+ MB\n"
     ]
    }
   ],
   "source": [
    "df.info()"
   ]
  },
  {
   "cell_type": "code",
   "execution_count": null,
   "id": "d680dd47-dbf8-451e-9e49-0641790aa733",
   "metadata": {},
   "outputs": [],
   "source": [
    "# # Identify and print string values in the 'num_pages' column\n",
    "# str_values = df['num_pages'][df['num_pages'].apply(lambda x: isinstance(x, str))]\n",
    "\n",
    "# print(\"\\nString values in 'num_pages' column:\")\n",
    "# print(str_values)"
   ]
  },
  {
   "cell_type": "code",
   "execution_count": null,
   "id": "d1579daf-cd2c-4ad6-9f62-14bb471ab3d5",
   "metadata": {},
   "outputs": [],
   "source": [
    "# # Identify and print string values in the 'num_pages' column\n",
    "# int_values = df['num_pages'][df['num_pages'].apply(lambda x: isinstance(x, int))]\n",
    "\n",
    "# print(\"\\nInteger values in 'num_pages' column:\")\n",
    "# print(int_values)"
   ]
  },
  {
   "cell_type": "code",
   "execution_count": null,
   "id": "781382ae-1b11-437a-97e8-4966d883c2ea",
   "metadata": {},
   "outputs": [],
   "source": [
    "# # Identify and print string values in the 'num_pages' column\n",
    "# str_values = df['text_reviews_count'][df['text_reviews_count'].apply(lambda x: isinstance(x, str))]\n",
    "\n",
    "# print(\"\\nString values in 'text_reviews_count' column:\")\n",
    "# print(str_values)"
   ]
  },
  {
   "cell_type": "code",
   "execution_count": 68,
   "id": "ee64457c-46b7-446e-b447-071d94fd9133",
   "metadata": {},
   "outputs": [
    {
     "data": {
      "text/plain": [
       "array(['9/16/2006', '9/1/2004', '11/1/2003', ..., '5/31/1998',\n",
       "       '7/10/1977', '10/11/2003'], dtype=object)"
      ]
     },
     "execution_count": 68,
     "metadata": {},
     "output_type": "execute_result"
    }
   ],
   "source": [
    "# getting unique value from 'year_of_publication' feature\n",
    "df['publication_date'].unique()"
   ]
  },
  {
   "cell_type": "code",
   "execution_count": null,
   "id": "ddb42430-8af6-4382-bedb-1a7172c298ec",
   "metadata": {},
   "outputs": [],
   "source": []
  },
  {
   "cell_type": "code",
   "execution_count": 30,
   "id": "860421e7-49c9-4660-9812-fbe6f5bf81d0",
   "metadata": {},
   "outputs": [
    {
     "data": {
      "text/plain": [
       "str"
      ]
     },
     "execution_count": 30,
     "metadata": {},
     "output_type": "execute_result"
    }
   ],
   "source": [
    "type(df.loc[2]['num_pages'])"
   ]
  },
  {
   "cell_type": "code",
   "execution_count": 31,
   "id": "c1321e1d-21b3-44af-a802-ee0ed8f9a58d",
   "metadata": {},
   "outputs": [
    {
     "name": "stdout",
     "output_type": "stream",
     "text": [
      "870\n"
     ]
    }
   ],
   "source": [
    "print(df.loc[2, 'num_pages'])"
   ]
  },
  {
   "cell_type": "code",
   "execution_count": 32,
   "id": "088f098d-eec2-4d19-9075-d41e107fa90e",
   "metadata": {},
   "outputs": [
    {
     "data": {
      "text/plain": [
       "int"
      ]
     },
     "execution_count": 32,
     "metadata": {},
     "output_type": "execute_result"
    }
   ],
   "source": [
    "type(df.loc[2]['text_reviews_count'])"
   ]
  },
  {
   "cell_type": "code",
   "execution_count": 33,
   "id": "299f5343-9b3b-4e51-8298-25a23a1fd4ad",
   "metadata": {},
   "outputs": [
    {
     "data": {
      "text/plain": [
       "str"
      ]
     },
     "execution_count": 33,
     "metadata": {},
     "output_type": "execute_result"
    }
   ],
   "source": [
    "type(df.loc[12224]['text_reviews_count'])"
   ]
  },
  {
   "cell_type": "code",
   "execution_count": 34,
   "id": "46e2cea2-17a5-4f5c-a02b-dba2daf2903e",
   "metadata": {},
   "outputs": [
    {
     "name": "stdout",
     "output_type": "stream",
     "text": [
      "29221\n"
     ]
    }
   ],
   "source": [
    "print(df.loc[2]['text_reviews_count'])"
   ]
  },
  {
   "cell_type": "code",
   "execution_count": 35,
   "id": "7d102d57-7e73-4c21-b009-7672cbb7a7e6",
   "metadata": {},
   "outputs": [
    {
     "name": "stdout",
     "output_type": "stream",
     "text": [
      "236\n"
     ]
    }
   ],
   "source": [
    "print(df.loc[12224, 'num_pages'])"
   ]
  },
  {
   "cell_type": "code",
   "execution_count": 36,
   "id": "71055b2a-67f1-4d62-9f55-0c4840d7d449",
   "metadata": {},
   "outputs": [
    {
     "name": "stdout",
     "output_type": "stream",
     "text": [
      "6\n"
     ]
    }
   ],
   "source": [
    "print(df.loc[12224]['text_reviews_count'])"
   ]
  },
  {
   "cell_type": "code",
   "execution_count": 37,
   "id": "2bf03320-6688-4d06-9972-b9ac65e9f4e3",
   "metadata": {},
   "outputs": [
    {
     "name": "stdout",
     "output_type": "stream",
     "text": [
      "\n",
      "DataFrame after conversion:\n"
     ]
    },
    {
     "data": {
      "text/plain": [
       "numpy.int64"
      ]
     },
     "execution_count": 37,
     "metadata": {},
     "output_type": "execute_result"
    }
   ],
   "source": [
    "#value = df.loc[12224]['text_reviews_count']\n",
    "# Simplified function to convert string numbers to integers, non-numeric to 0\n",
    "def convert_to_int(str_values):\n",
    "    try:\n",
    "        return int(str_values)\n",
    "    except ValueError:\n",
    "        return 0\n",
    "\n",
    "# Apply the conversion function to the entire 'text_reviews_count' column\n",
    "df['text_reviews_count'] = df['text_reviews_count'].apply(convert_to_int)\n",
    "\n",
    "# Print the DataFrame after conversion\n",
    "print(\"\\nDataFrame after conversion:\")\n",
    "type(df.loc[12224]['text_reviews_count'])"
   ]
  },
  {
   "cell_type": "code",
   "execution_count": 38,
   "id": "4774afe4-3f5b-453d-91ee-a41219fd0ea7",
   "metadata": {},
   "outputs": [
    {
     "data": {
      "text/plain": [
       "title                 Streetcar Suburbs: The Process of Growth in Bo...\n",
       "authors                               Sam Bass Warner Jr./Sam B. Warner\n",
       "average_rating                                                     3.58\n",
       "isbn                                                          674842111\n",
       "isbn13                                                         9.78E+12\n",
       "language_code                                                     en-US\n",
       "num_pages                                                           236\n",
       "ratings_count                                                        61\n",
       "text_reviews_count                                                    6\n",
       "publication_date                                              4/20/2004\n",
       "publisher                                      Harvard University Press\n",
       "Name: 12224, dtype: object"
      ]
     },
     "execution_count": 38,
     "metadata": {},
     "output_type": "execute_result"
    }
   ],
   "source": [
    "df.loc[12224]"
   ]
  },
  {
   "cell_type": "code",
   "execution_count": 39,
   "id": "0f497f3c-c605-42ac-a7d1-748bff209ca2",
   "metadata": {},
   "outputs": [],
   "source": [
    "df['num_pages'] = df['num_pages'].astype(int)"
   ]
  },
  {
   "cell_type": "code",
   "execution_count": 40,
   "id": "5be5a5ae-e7bb-4bfa-9115-d017c50a45dd",
   "metadata": {},
   "outputs": [
    {
     "name": "stdout",
     "output_type": "stream",
     "text": [
      "Rows with non-numeric 'num_pages' values:\n",
      "Empty DataFrame\n",
      "Columns: [title, authors, average_rating, isbn, isbn13, language_code, num_pages, ratings_count, text_reviews_count, publication_date, publisher]\n",
      "Index: []\n"
     ]
    }
   ],
   "source": [
    "# Detect rows where 'num_pages' cannot be converted to a numeric value\n",
    "non_numeric_rows = df[pd.to_numeric(df['num_pages'], errors='coerce').isna()]\n",
    "\n",
    "# Print the rows with non-numeric 'num_pages' values\n",
    "print(\"Rows with non-numeric 'num_pages' values:\")\n",
    "print(non_numeric_rows)"
   ]
  },
  {
   "cell_type": "code",
   "execution_count": 41,
   "id": "31167558-ea53-4dce-bda2-281cda117bb6",
   "metadata": {},
   "outputs": [
    {
     "data": {
      "text/plain": [
       "title                 0\n",
       "authors               0\n",
       "average_rating        0\n",
       "isbn                  0\n",
       "isbn13                0\n",
       "language_code         0\n",
       "num_pages             0\n",
       "ratings_count         0\n",
       "text_reviews_count    0\n",
       "publication_date      0\n",
       "publisher             0\n",
       "dtype: int64"
      ]
     },
     "execution_count": 41,
     "metadata": {},
     "output_type": "execute_result"
    }
   ],
   "source": [
    "df.isna().sum()"
   ]
  },
  {
   "cell_type": "code",
   "execution_count": 42,
   "id": "d06a186d-543a-4d51-aa96-4e0f390c5a99",
   "metadata": {},
   "outputs": [
    {
     "data": {
      "text/plain": [
       "language_code\n",
       "eng      8911\n",
       "en-US    1409\n",
       "spa       218\n",
       "en-GB     214\n",
       "fre       144\n",
       "ger        99\n",
       "jpn        46\n",
       "mul        19\n",
       "zho        14\n",
       "grc        11\n",
       "por        10\n",
       "en-CA       7\n",
       "ita         5\n",
       "enm         3\n",
       "lat         3\n",
       "swe         2\n",
       "rus         2\n",
       "srp         1\n",
       "nl          1\n",
       "msa         1\n",
       "glg         1\n",
       "wel         1\n",
       "ara         1\n",
       "nor         1\n",
       "tur         1\n",
       "gla         1\n",
       "ale         1\n",
       "Name: count, dtype: int64"
      ]
     },
     "execution_count": 42,
     "metadata": {},
     "output_type": "execute_result"
    }
   ],
   "source": [
    "df['language_code'].value_counts()"
   ]
  },
  {
   "cell_type": "markdown",
   "id": "2b242e8e-1412-4bb2-aa57-90e66a379442",
   "metadata": {},
   "source": [
    "#language_code grouping\n",
    "eng, en-US, en_GB, en-CA, enm (English, Middle (1100-1500)\n",
    "spa\n",
    "fre\n",
    "ger\n",
    "jpn\n",
    "mul\n",
    "zho (chinese)\n",
    "grc (ancient greek)\n",
    "por\n",
    "ita\n",
    "lat\n",
    "swe\n",
    "rus\n",
    "srp\n",
    "nl (dutch)\n",
    "msa (indo)\n",
    "glg (galician)\n",
    "wel\n",
    "ara\n",
    "nor\n",
    "tur\n",
    "gla (gaelic)\n",
    "ale (Ethiopian)"
   ]
  },
  {
   "cell_type": "code",
   "execution_count": 44,
   "id": "092a8a9e-09b1-4651-a911-7a95c51e90a5",
   "metadata": {},
   "outputs": [],
   "source": [
    "#count all English variation as english\n",
    "df['language_code'] = df['language_code'].replace(['en-US','en-GB','en-CA','enm'],'eng')"
   ]
  },
  {
   "cell_type": "code",
   "execution_count": 45,
   "id": "a05be8ce-d5e4-4952-8850-d23aff541ab1",
   "metadata": {},
   "outputs": [
    {
     "data": {
      "text/plain": [
       "language_code\n",
       "eng    10544\n",
       "spa      218\n",
       "fre      144\n",
       "ger       99\n",
       "jpn       46\n",
       "mul       19\n",
       "zho       14\n",
       "grc       11\n",
       "por       10\n",
       "ita        5\n",
       "lat        3\n",
       "rus        2\n",
       "swe        2\n",
       "nl         1\n",
       "ara        1\n",
       "srp        1\n",
       "msa        1\n",
       "glg        1\n",
       "wel        1\n",
       "nor        1\n",
       "tur        1\n",
       "gla        1\n",
       "ale        1\n",
       "Name: count, dtype: int64"
      ]
     },
     "execution_count": 45,
     "metadata": {},
     "output_type": "execute_result"
    }
   ],
   "source": [
    "df['language_code'].value_counts()"
   ]
  },
  {
   "cell_type": "code",
   "execution_count": 46,
   "id": "ac033d1b-4fc6-47e7-aac8-011986a719a8",
   "metadata": {},
   "outputs": [],
   "source": [
    "df = df.drop(columns=['isbn','isbn13'])"
   ]
  },
  {
   "cell_type": "code",
   "execution_count": 47,
   "id": "3549c0d5-fd28-449a-b1a3-5e0e3e22d53b",
   "metadata": {},
   "outputs": [
    {
     "data": {
      "text/html": [
       "<div>\n",
       "<style scoped>\n",
       "    .dataframe tbody tr th:only-of-type {\n",
       "        vertical-align: middle;\n",
       "    }\n",
       "\n",
       "    .dataframe tbody tr th {\n",
       "        vertical-align: top;\n",
       "    }\n",
       "\n",
       "    .dataframe thead th {\n",
       "        text-align: right;\n",
       "    }\n",
       "</style>\n",
       "<table border=\"1\" class=\"dataframe\">\n",
       "  <thead>\n",
       "    <tr style=\"text-align: right;\">\n",
       "      <th></th>\n",
       "      <th>title</th>\n",
       "      <th>authors</th>\n",
       "      <th>average_rating</th>\n",
       "      <th>language_code</th>\n",
       "      <th>num_pages</th>\n",
       "      <th>ratings_count</th>\n",
       "      <th>text_reviews_count</th>\n",
       "      <th>publication_date</th>\n",
       "      <th>publisher</th>\n",
       "    </tr>\n",
       "    <tr>\n",
       "      <th>bookID</th>\n",
       "      <th></th>\n",
       "      <th></th>\n",
       "      <th></th>\n",
       "      <th></th>\n",
       "      <th></th>\n",
       "      <th></th>\n",
       "      <th></th>\n",
       "      <th></th>\n",
       "      <th></th>\n",
       "    </tr>\n",
       "  </thead>\n",
       "  <tbody>\n",
       "    <tr>\n",
       "      <th>1</th>\n",
       "      <td>Harry Potter and the Half-Blood Prince (Harry ...</td>\n",
       "      <td>J.K. Rowling/Mary GrandPré</td>\n",
       "      <td>4.57</td>\n",
       "      <td>eng</td>\n",
       "      <td>652</td>\n",
       "      <td>2095690</td>\n",
       "      <td>27591</td>\n",
       "      <td>9/16/2006</td>\n",
       "      <td>Scholastic Inc.</td>\n",
       "    </tr>\n",
       "    <tr>\n",
       "      <th>2</th>\n",
       "      <td>Harry Potter and the Order of the Phoenix (Har...</td>\n",
       "      <td>J.K. Rowling/Mary GrandPré</td>\n",
       "      <td>4.49</td>\n",
       "      <td>eng</td>\n",
       "      <td>870</td>\n",
       "      <td>2153167</td>\n",
       "      <td>29221</td>\n",
       "      <td>9/1/2004</td>\n",
       "      <td>Scholastic Inc.</td>\n",
       "    </tr>\n",
       "    <tr>\n",
       "      <th>4</th>\n",
       "      <td>Harry Potter and the Chamber of Secrets (Harry...</td>\n",
       "      <td>J.K. Rowling</td>\n",
       "      <td>4.42</td>\n",
       "      <td>eng</td>\n",
       "      <td>352</td>\n",
       "      <td>6333</td>\n",
       "      <td>244</td>\n",
       "      <td>11/1/2003</td>\n",
       "      <td>Scholastic</td>\n",
       "    </tr>\n",
       "    <tr>\n",
       "      <th>5</th>\n",
       "      <td>Harry Potter and the Prisoner of Azkaban (Harr...</td>\n",
       "      <td>J.K. Rowling/Mary GrandPré</td>\n",
       "      <td>4.56</td>\n",
       "      <td>eng</td>\n",
       "      <td>435</td>\n",
       "      <td>2339585</td>\n",
       "      <td>36325</td>\n",
       "      <td>5/1/2004</td>\n",
       "      <td>Scholastic Inc.</td>\n",
       "    </tr>\n",
       "    <tr>\n",
       "      <th>8</th>\n",
       "      <td>Harry Potter Boxed Set  Books 1-5 (Harry Potte...</td>\n",
       "      <td>J.K. Rowling/Mary GrandPré</td>\n",
       "      <td>4.78</td>\n",
       "      <td>eng</td>\n",
       "      <td>2690</td>\n",
       "      <td>41428</td>\n",
       "      <td>164</td>\n",
       "      <td>9/13/2004</td>\n",
       "      <td>Scholastic</td>\n",
       "    </tr>\n",
       "    <tr>\n",
       "      <th>9</th>\n",
       "      <td>Unauthorized Harry Potter Book Seven News: \"Ha...</td>\n",
       "      <td>W. Frederick Zimmerman</td>\n",
       "      <td>3.74</td>\n",
       "      <td>eng</td>\n",
       "      <td>152</td>\n",
       "      <td>19</td>\n",
       "      <td>1</td>\n",
       "      <td>4/26/2005</td>\n",
       "      <td>Nimble Books</td>\n",
       "    </tr>\n",
       "    <tr>\n",
       "      <th>10</th>\n",
       "      <td>Harry Potter Collection (Harry Potter  #1-6)</td>\n",
       "      <td>J.K. Rowling</td>\n",
       "      <td>4.73</td>\n",
       "      <td>eng</td>\n",
       "      <td>3342</td>\n",
       "      <td>28242</td>\n",
       "      <td>808</td>\n",
       "      <td>9/12/2005</td>\n",
       "      <td>Scholastic</td>\n",
       "    </tr>\n",
       "    <tr>\n",
       "      <th>12</th>\n",
       "      <td>The Ultimate Hitchhiker's Guide: Five Complete...</td>\n",
       "      <td>Douglas Adams</td>\n",
       "      <td>4.38</td>\n",
       "      <td>eng</td>\n",
       "      <td>815</td>\n",
       "      <td>3628</td>\n",
       "      <td>254</td>\n",
       "      <td>11/1/2005</td>\n",
       "      <td>Gramercy Books</td>\n",
       "    </tr>\n",
       "    <tr>\n",
       "      <th>13</th>\n",
       "      <td>The Ultimate Hitchhiker's Guide to the Galaxy ...</td>\n",
       "      <td>Douglas Adams</td>\n",
       "      <td>4.38</td>\n",
       "      <td>eng</td>\n",
       "      <td>815</td>\n",
       "      <td>249558</td>\n",
       "      <td>4080</td>\n",
       "      <td>4/30/2002</td>\n",
       "      <td>Del Rey Books</td>\n",
       "    </tr>\n",
       "    <tr>\n",
       "      <th>14</th>\n",
       "      <td>The Hitchhiker's Guide to the Galaxy (Hitchhik...</td>\n",
       "      <td>Douglas Adams</td>\n",
       "      <td>4.22</td>\n",
       "      <td>eng</td>\n",
       "      <td>215</td>\n",
       "      <td>4930</td>\n",
       "      <td>460</td>\n",
       "      <td>8/3/2004</td>\n",
       "      <td>Crown</td>\n",
       "    </tr>\n",
       "  </tbody>\n",
       "</table>\n",
       "</div>"
      ],
      "text/plain": [
       "                                                    title  \\\n",
       "bookID                                                      \n",
       "1       Harry Potter and the Half-Blood Prince (Harry ...   \n",
       "2       Harry Potter and the Order of the Phoenix (Har...   \n",
       "4       Harry Potter and the Chamber of Secrets (Harry...   \n",
       "5       Harry Potter and the Prisoner of Azkaban (Harr...   \n",
       "8       Harry Potter Boxed Set  Books 1-5 (Harry Potte...   \n",
       "9       Unauthorized Harry Potter Book Seven News: \"Ha...   \n",
       "10           Harry Potter Collection (Harry Potter  #1-6)   \n",
       "12      The Ultimate Hitchhiker's Guide: Five Complete...   \n",
       "13      The Ultimate Hitchhiker's Guide to the Galaxy ...   \n",
       "14      The Hitchhiker's Guide to the Galaxy (Hitchhik...   \n",
       "\n",
       "                           authors average_rating language_code  num_pages  \\\n",
       "bookID                                                                       \n",
       "1       J.K. Rowling/Mary GrandPré           4.57           eng        652   \n",
       "2       J.K. Rowling/Mary GrandPré           4.49           eng        870   \n",
       "4                     J.K. Rowling           4.42           eng        352   \n",
       "5       J.K. Rowling/Mary GrandPré           4.56           eng        435   \n",
       "8       J.K. Rowling/Mary GrandPré           4.78           eng       2690   \n",
       "9           W. Frederick Zimmerman           3.74           eng        152   \n",
       "10                    J.K. Rowling           4.73           eng       3342   \n",
       "12                   Douglas Adams           4.38           eng        815   \n",
       "13                   Douglas Adams           4.38           eng        815   \n",
       "14                   Douglas Adams           4.22           eng        215   \n",
       "\n",
       "        ratings_count  text_reviews_count publication_date        publisher  \n",
       "bookID                                                                       \n",
       "1             2095690               27591        9/16/2006  Scholastic Inc.  \n",
       "2             2153167               29221         9/1/2004  Scholastic Inc.  \n",
       "4                6333                 244        11/1/2003       Scholastic  \n",
       "5             2339585               36325         5/1/2004  Scholastic Inc.  \n",
       "8               41428                 164        9/13/2004       Scholastic  \n",
       "9                  19                   1        4/26/2005     Nimble Books  \n",
       "10              28242                 808        9/12/2005       Scholastic  \n",
       "12               3628                 254        11/1/2005   Gramercy Books  \n",
       "13             249558                4080        4/30/2002    Del Rey Books  \n",
       "14               4930                 460         8/3/2004            Crown  "
      ]
     },
     "execution_count": 47,
     "metadata": {},
     "output_type": "execute_result"
    }
   ],
   "source": [
    "df.head(10)"
   ]
  },
  {
   "cell_type": "code",
   "execution_count": 48,
   "id": "c5a237cf-fc9b-495a-9e9c-823225bcfb0f",
   "metadata": {},
   "outputs": [
    {
     "data": {
      "text/plain": [
       "publisher\n",
       "Vintage                        318\n",
       "Penguin Books                  261\n",
       "Penguin Classics               184\n",
       "Mariner Books                  150\n",
       "Ballantine Books               144\n",
       "                              ... \n",
       "University of Calgary Press      1\n",
       "Marlowe & Company                1\n",
       "University Press of America      1\n",
       "Abstract Studio                  1\n",
       "Sounds True                      1\n",
       "Name: count, Length: 2292, dtype: int64"
      ]
     },
     "execution_count": 48,
     "metadata": {},
     "output_type": "execute_result"
    }
   ],
   "source": [
    "df['publisher'].value_counts()"
   ]
  },
  {
   "cell_type": "code",
   "execution_count": 49,
   "id": "73fce249-7acc-46c3-aa6d-b7d670f9298f",
   "metadata": {},
   "outputs": [
    {
     "name": "stdout",
     "output_type": "stream",
     "text": [
      "Unique types in 'average_rating' column:\n",
      "<class 'str'>\n"
     ]
    }
   ],
   "source": [
    "# Find all unique types in the 'num_pages' column\n",
    "unique_types = df['average_rating'].apply(type).unique()\n",
    "\n",
    "# Print the unique types\n",
    "print(\"Unique types in 'average_rating' column:\")\n",
    "for t in unique_types:\n",
    "    print(t)"
   ]
  },
  {
   "cell_type": "code",
   "execution_count": 50,
   "id": "027481f5-8b10-4de8-8465-37ab2c4b1e5e",
   "metadata": {},
   "outputs": [
    {
     "data": {
      "text/html": [
       "<div>\n",
       "<style scoped>\n",
       "    .dataframe tbody tr th:only-of-type {\n",
       "        vertical-align: middle;\n",
       "    }\n",
       "\n",
       "    .dataframe tbody tr th {\n",
       "        vertical-align: top;\n",
       "    }\n",
       "\n",
       "    .dataframe thead th {\n",
       "        text-align: right;\n",
       "    }\n",
       "</style>\n",
       "<table border=\"1\" class=\"dataframe\">\n",
       "  <thead>\n",
       "    <tr style=\"text-align: right;\">\n",
       "      <th></th>\n",
       "      <th>title</th>\n",
       "      <th>authors</th>\n",
       "      <th>average_rating</th>\n",
       "      <th>language_code</th>\n",
       "      <th>num_pages</th>\n",
       "      <th>ratings_count</th>\n",
       "      <th>text_reviews_count</th>\n",
       "      <th>publication_date</th>\n",
       "      <th>publisher</th>\n",
       "    </tr>\n",
       "    <tr>\n",
       "      <th>bookID</th>\n",
       "      <th></th>\n",
       "      <th></th>\n",
       "      <th></th>\n",
       "      <th></th>\n",
       "      <th></th>\n",
       "      <th></th>\n",
       "      <th></th>\n",
       "      <th></th>\n",
       "      <th></th>\n",
       "    </tr>\n",
       "  </thead>\n",
       "  <tbody>\n",
       "    <tr>\n",
       "      <th>12202</th>\n",
       "      <td>The Poetry of Robert Frost: The Collected Poem...</td>\n",
       "      <td>Robert Frost/Edward Connery Lathem</td>\n",
       "      <td>4.25</td>\n",
       "      <td>eng</td>\n",
       "      <td>607</td>\n",
       "      <td>1392</td>\n",
       "      <td>67</td>\n",
       "      <td>4/1/2002</td>\n",
       "      <td>Owl Books</td>\n",
       "    </tr>\n",
       "    <tr>\n",
       "      <th>12203</th>\n",
       "      <td>Frost</td>\n",
       "      <td>Thomas Bernhard/Michael Hofmann</td>\n",
       "      <td>3.88</td>\n",
       "      <td>eng</td>\n",
       "      <td>342</td>\n",
       "      <td>731</td>\n",
       "      <td>69</td>\n",
       "      <td>10/17/2006</td>\n",
       "      <td>Alfred A. Knopf</td>\n",
       "    </tr>\n",
       "    <tr>\n",
       "      <th>12204</th>\n",
       "      <td>The Road Not Taken and Other Poems</td>\n",
       "      <td>Robert Frost</td>\n",
       "      <td>4.28</td>\n",
       "      <td>eng</td>\n",
       "      <td>49</td>\n",
       "      <td>33928</td>\n",
       "      <td>251</td>\n",
       "      <td>4/19/1993</td>\n",
       "      <td>Dover Publications</td>\n",
       "    </tr>\n",
       "    <tr>\n",
       "      <th>12210</th>\n",
       "      <td>Collected Poems  Prose  and Plays</td>\n",
       "      <td>Robert Frost/Richard Poirier/Mark   Richardson</td>\n",
       "      <td>4.32</td>\n",
       "      <td>eng</td>\n",
       "      <td>1036</td>\n",
       "      <td>6188</td>\n",
       "      <td>51</td>\n",
       "      <td>10/1/1995</td>\n",
       "      <td>Library of America</td>\n",
       "    </tr>\n",
       "    <tr>\n",
       "      <th>12212</th>\n",
       "      <td>Robert Frost: A Life</td>\n",
       "      <td>Jay Parini</td>\n",
       "      <td>4.11</td>\n",
       "      <td>eng</td>\n",
       "      <td>514</td>\n",
       "      <td>259</td>\n",
       "      <td>31</td>\n",
       "      <td>3/15/2000</td>\n",
       "      <td>Owl Books (NY)</td>\n",
       "    </tr>\n",
       "    <tr>\n",
       "      <th>12216</th>\n",
       "      <td>Three Plays: Desire Under the Elms / Strange I...</td>\n",
       "      <td>Eugene O'Neill/Luann Walther</td>\n",
       "      <td>4.08</td>\n",
       "      <td>eng</td>\n",
       "      <td>424</td>\n",
       "      <td>1596</td>\n",
       "      <td>36</td>\n",
       "      <td>10/31/1995</td>\n",
       "      <td>Vintage</td>\n",
       "    </tr>\n",
       "    <tr>\n",
       "      <th>12220</th>\n",
       "      <td>A Streetcar Named Desire</td>\n",
       "      <td>Tennessee Williams</td>\n",
       "      <td>3.98</td>\n",
       "      <td>eng</td>\n",
       "      <td>107</td>\n",
       "      <td>235224</td>\n",
       "      <td>2409</td>\n",
       "      <td>12/1/1952</td>\n",
       "      <td>Dramatists Play Service</td>\n",
       "    </tr>\n",
       "    <tr>\n",
       "      <th>12222</th>\n",
       "      <td>A Streetcar Named Desire</td>\n",
       "      <td>Tennessee Williams/Arthur  Miller</td>\n",
       "      <td>3.98</td>\n",
       "      <td>eng</td>\n",
       "      <td>192</td>\n",
       "      <td>3458</td>\n",
       "      <td>337</td>\n",
       "      <td>9/17/2004</td>\n",
       "      <td>New Directions</td>\n",
       "    </tr>\n",
       "    <tr>\n",
       "      <th>12224</th>\n",
       "      <td>Streetcar Suburbs: The Process of Growth in Bo...</td>\n",
       "      <td>Sam Bass Warner Jr./Sam B. Warner</td>\n",
       "      <td>3.58</td>\n",
       "      <td>eng</td>\n",
       "      <td>236</td>\n",
       "      <td>61</td>\n",
       "      <td>6</td>\n",
       "      <td>4/20/2004</td>\n",
       "      <td>Harvard University Press</td>\n",
       "    </tr>\n",
       "    <tr>\n",
       "      <th>12225</th>\n",
       "      <td>A Streetcar Named Desire (SparkNotes Literatur...</td>\n",
       "      <td>SparkNotes</td>\n",
       "      <td>3.29</td>\n",
       "      <td>eng</td>\n",
       "      <td>96</td>\n",
       "      <td>0</td>\n",
       "      <td>0</td>\n",
       "      <td>7/15/2002</td>\n",
       "      <td>SparkNotes</td>\n",
       "    </tr>\n",
       "  </tbody>\n",
       "</table>\n",
       "</div>"
      ],
      "text/plain": [
       "                                                    title  \\\n",
       "bookID                                                      \n",
       "12202   The Poetry of Robert Frost: The Collected Poem...   \n",
       "12203                                               Frost   \n",
       "12204                  The Road Not Taken and Other Poems   \n",
       "12210                   Collected Poems  Prose  and Plays   \n",
       "12212                                Robert Frost: A Life   \n",
       "12216   Three Plays: Desire Under the Elms / Strange I...   \n",
       "12220                            A Streetcar Named Desire   \n",
       "12222                            A Streetcar Named Desire   \n",
       "12224   Streetcar Suburbs: The Process of Growth in Bo...   \n",
       "12225   A Streetcar Named Desire (SparkNotes Literatur...   \n",
       "\n",
       "                                               authors average_rating  \\\n",
       "bookID                                                                  \n",
       "12202               Robert Frost/Edward Connery Lathem           4.25   \n",
       "12203                  Thomas Bernhard/Michael Hofmann           3.88   \n",
       "12204                                     Robert Frost           4.28   \n",
       "12210   Robert Frost/Richard Poirier/Mark   Richardson           4.32   \n",
       "12212                                       Jay Parini           4.11   \n",
       "12216                     Eugene O'Neill/Luann Walther           4.08   \n",
       "12220                               Tennessee Williams           3.98   \n",
       "12222                Tennessee Williams/Arthur  Miller           3.98   \n",
       "12224                Sam Bass Warner Jr./Sam B. Warner           3.58   \n",
       "12225                                       SparkNotes           3.29   \n",
       "\n",
       "       language_code  num_pages  ratings_count  text_reviews_count  \\\n",
       "bookID                                                               \n",
       "12202            eng        607           1392                  67   \n",
       "12203            eng        342            731                  69   \n",
       "12204            eng         49          33928                 251   \n",
       "12210            eng       1036           6188                  51   \n",
       "12212            eng        514            259                  31   \n",
       "12216            eng        424           1596                  36   \n",
       "12220            eng        107         235224                2409   \n",
       "12222            eng        192           3458                 337   \n",
       "12224            eng        236             61                   6   \n",
       "12225            eng         96              0                   0   \n",
       "\n",
       "       publication_date                 publisher  \n",
       "bookID                                             \n",
       "12202          4/1/2002                 Owl Books  \n",
       "12203        10/17/2006           Alfred A. Knopf  \n",
       "12204         4/19/1993        Dover Publications  \n",
       "12210         10/1/1995        Library of America  \n",
       "12212         3/15/2000            Owl Books (NY)  \n",
       "12216        10/31/1995                   Vintage  \n",
       "12220         12/1/1952   Dramatists Play Service  \n",
       "12222         9/17/2004            New Directions  \n",
       "12224         4/20/2004  Harvard University Press  \n",
       "12225         7/15/2002                SparkNotes  "
      ]
     },
     "execution_count": 50,
     "metadata": {},
     "output_type": "execute_result"
    }
   ],
   "source": [
    "df.iloc[3340:3350]"
   ]
  },
  {
   "cell_type": "code",
   "execution_count": 51,
   "id": "1b50c798-f6d0-461b-bf86-4b702f79fec2",
   "metadata": {},
   "outputs": [
    {
     "data": {
      "text/plain": [
       "title                 Patriots (The Coming Collapse)\n",
       "authors                          James Wesley Rawles\n",
       "average_rating                                  3.63\n",
       "language_code                                    eng\n",
       "num_pages                                        342\n",
       "ratings_count                                     38\n",
       "text_reviews_count                                 4\n",
       "publication_date                           1/15/1999\n",
       "publisher                Huntington House Publishers\n",
       "Name: 22128, dtype: object"
      ]
     },
     "execution_count": 51,
     "metadata": {},
     "output_type": "execute_result"
    }
   ],
   "source": [
    "df.iloc[5877]"
   ]
  },
  {
   "cell_type": "code",
   "execution_count": 52,
   "id": "b342c4ce-f91c-4f39-bb19-82c1a1e98a9f",
   "metadata": {},
   "outputs": [
    {
     "data": {
      "text/plain": [
       "numpy.float64"
      ]
     },
     "execution_count": 52,
     "metadata": {},
     "output_type": "execute_result"
    }
   ],
   "source": [
    "# Convert 'average_rating' to numeric\n",
    "df['average_rating'] = pd.to_numeric(df['average_rating'])\n",
    "\n",
    "type(df.loc[2]['average_rating'])\n"
   ]
  },
  {
   "cell_type": "markdown",
   "id": "7c92a11e-2b81-443c-a0b4-7b1dc0a24bd3",
   "metadata": {},
   "source": [
    "\n",
    "# Find all unique types in the 'num_pages' column\n",
    "unique_types = df['average_rating'].apply(type).unique()\n",
    "\n",
    "# Print the unique types\n",
    "print(\"Unique types in 'average_rating' column:\")\n",
    "for t in unique_types:\n",
    "    print(t)\n",
    "\n",
    "# Group by publisher and calculate the average rating\n",
    "publisher_ratings = df.groupby('publisher')['average_rating'].mean().reset_index()\n",
    "\n",
    "# Sort publishers by average rating in descending order\n",
    "publisher_ratings = publisher_ratings.sort_values(by='average_rating', ascending=False)\n",
    "\n",
    "# Print the top publishers by average rating\n",
    "print(publisher_ratings.head(10))"
   ]
  },
  {
   "cell_type": "code",
   "execution_count": 54,
   "id": "076ba566-7b8f-4b90-9615-9070a53b6572",
   "metadata": {
    "scrolled": true
   },
   "outputs": [
    {
     "name": "stdout",
     "output_type": "stream",
     "text": [
      "Unique types in 'average_rating' column:\n",
      "<class 'float'>\n",
      "                            publisher  average_rating\n",
      "1886            Square One Publishers             5.0\n",
      "2248                          Y Lolfa             5.0\n",
      "1957       Texas A&M University Press             5.0\n",
      "462                     Courage Books             5.0\n",
      "2069  University Press of New England             5.0\n",
      "1770                   Schirmer Mosel             5.0\n",
      "26                    Academica Press             5.0\n",
      "1932                  T&T Clark Int'l             5.0\n",
      "2105                    Vantage Press             5.0\n",
      "311               Boosey & Hawkes Inc             5.0\n"
     ]
    }
   ],
   "source": [
    "import pandas as pd\n",
    "\n",
    "# Assuming 'df' is your DataFrame\n",
    "\n",
    "# Convert 'average_rating' column to float\n",
    "df['average_rating'] = df['average_rating'].astype(float)\n",
    "\n",
    "# Verify the conversion by finding all unique types in the 'average_rating' column\n",
    "unique_types = df['average_rating'].apply(type).unique()\n",
    "\n",
    "# Print the unique types\n",
    "print(\"Unique types in 'average_rating' column:\")\n",
    "for t in unique_types:\n",
    "    print(t)\n",
    "\n",
    "# Group by publisher and calculate the average rating\n",
    "publisher_ratings = df.groupby('publisher')['average_rating'].mean().reset_index()\n",
    "\n",
    "# Sort publishers by average rating in descending order\n",
    "publisher_ratings = publisher_ratings.sort_values(by='average_rating', ascending=False)\n",
    "\n",
    "# Print the top publishers by average rating\n",
    "print(publisher_ratings.head(10))\n"
   ]
  },
  {
   "cell_type": "code",
   "execution_count": 55,
   "id": "70c9fe41-8d1a-4dcc-b250-6c32f743a2f6",
   "metadata": {},
   "outputs": [
    {
     "name": "stdout",
     "output_type": "stream",
     "text": [
      "{'encoding': 'utf-8', 'confidence': 0.99, 'language': ''}\n"
     ]
    }
   ],
   "source": [
    "import chardet\n",
    "\n",
    "# Detect the encoding of a file\n",
    "with open('/Users/tanattiya/Desktop/DSTI/ML/Project1/books.csv', 'rb') as f:\n",
    "    result = chardet.detect(f.read())\n",
    "\n",
    "print(result)\n"
   ]
  },
  {
   "cell_type": "code",
   "execution_count": 56,
   "id": "7cc76cb2-8ae3-4b82-bec6-d50f5951dbe4",
   "metadata": {},
   "outputs": [
    {
     "data": {
      "text/html": [
       "<div>\n",
       "<style scoped>\n",
       "    .dataframe tbody tr th:only-of-type {\n",
       "        vertical-align: middle;\n",
       "    }\n",
       "\n",
       "    .dataframe tbody tr th {\n",
       "        vertical-align: top;\n",
       "    }\n",
       "\n",
       "    .dataframe thead th {\n",
       "        text-align: right;\n",
       "    }\n",
       "</style>\n",
       "<table border=\"1\" class=\"dataframe\">\n",
       "  <thead>\n",
       "    <tr style=\"text-align: right;\">\n",
       "      <th></th>\n",
       "      <th>title</th>\n",
       "      <th>authors</th>\n",
       "      <th>average_rating</th>\n",
       "      <th>language_code</th>\n",
       "      <th>num_pages</th>\n",
       "      <th>ratings_count</th>\n",
       "      <th>text_reviews_count</th>\n",
       "      <th>publication_date</th>\n",
       "      <th>publisher</th>\n",
       "    </tr>\n",
       "    <tr>\n",
       "      <th>bookID</th>\n",
       "      <th></th>\n",
       "      <th></th>\n",
       "      <th></th>\n",
       "      <th></th>\n",
       "      <th></th>\n",
       "      <th></th>\n",
       "      <th></th>\n",
       "      <th></th>\n",
       "      <th></th>\n",
       "    </tr>\n",
       "  </thead>\n",
       "  <tbody>\n",
       "    <tr>\n",
       "      <th>22804</th>\n",
       "      <td>犬夜叉 12</td>\n",
       "      <td>Rumiko Takahashi</td>\n",
       "      <td>4.25</td>\n",
       "      <td>jpn</td>\n",
       "      <td>192</td>\n",
       "      <td>13</td>\n",
       "      <td>0</td>\n",
       "      <td>9/18/1999</td>\n",
       "      <td>小学館</td>\n",
       "    </tr>\n",
       "    <tr>\n",
       "      <th>22805</th>\n",
       "      <td>犬夜叉 17</td>\n",
       "      <td>Rumiko Takahashi</td>\n",
       "      <td>4.25</td>\n",
       "      <td>jpn</td>\n",
       "      <td>192</td>\n",
       "      <td>14</td>\n",
       "      <td>1</td>\n",
       "      <td>8/9/2000</td>\n",
       "      <td>小学館</td>\n",
       "    </tr>\n",
       "    <tr>\n",
       "      <th>22807</th>\n",
       "      <td>犬夜叉 14</td>\n",
       "      <td>Rumiko Takahashi</td>\n",
       "      <td>4.30</td>\n",
       "      <td>jpn</td>\n",
       "      <td>192</td>\n",
       "      <td>13</td>\n",
       "      <td>1</td>\n",
       "      <td>2/18/2000</td>\n",
       "      <td>小学館</td>\n",
       "    </tr>\n",
       "    <tr>\n",
       "      <th>22816</th>\n",
       "      <td>犬夜叉 10</td>\n",
       "      <td>Rumiko Takahashi</td>\n",
       "      <td>4.28</td>\n",
       "      <td>jpn</td>\n",
       "      <td>192</td>\n",
       "      <td>15</td>\n",
       "      <td>0</td>\n",
       "      <td>4/17/1999</td>\n",
       "      <td>小学館</td>\n",
       "    </tr>\n",
       "    <tr>\n",
       "      <th>22817</th>\n",
       "      <td>犬夜叉 1</td>\n",
       "      <td>Rumiko Takahashi</td>\n",
       "      <td>4.27</td>\n",
       "      <td>jpn</td>\n",
       "      <td>192</td>\n",
       "      <td>41</td>\n",
       "      <td>3</td>\n",
       "      <td>4/18/1997</td>\n",
       "      <td>小学館</td>\n",
       "    </tr>\n",
       "    <tr>\n",
       "      <th>22820</th>\n",
       "      <td>犬夜叉  27</td>\n",
       "      <td>Rumiko Takahashi</td>\n",
       "      <td>4.28</td>\n",
       "      <td>jpn</td>\n",
       "      <td>192</td>\n",
       "      <td>12</td>\n",
       "      <td>1</td>\n",
       "      <td>9/18/2002</td>\n",
       "      <td>小学館</td>\n",
       "    </tr>\n",
       "    <tr>\n",
       "      <th>22821</th>\n",
       "      <td>The Return of Lum  Volume 3: Sweet Revenge (Ur...</td>\n",
       "      <td>Rumiko Takahashi</td>\n",
       "      <td>3.97</td>\n",
       "      <td>eng</td>\n",
       "      <td>216</td>\n",
       "      <td>32</td>\n",
       "      <td>1</td>\n",
       "      <td>3/8/1997</td>\n",
       "      <td>Viz Media</td>\n",
       "    </tr>\n",
       "    <tr>\n",
       "      <th>22822</th>\n",
       "      <td>The Return of Lum  Volume 5: Feudal Furor (Uru...</td>\n",
       "      <td>Rumiko Takahashi</td>\n",
       "      <td>4.04</td>\n",
       "      <td>eng</td>\n",
       "      <td>200</td>\n",
       "      <td>27</td>\n",
       "      <td>0</td>\n",
       "      <td>12/6/1997</td>\n",
       "      <td>Viz Media</td>\n",
       "    </tr>\n",
       "    <tr>\n",
       "      <th>22826</th>\n",
       "      <td>Lamu: Urusei Yatsura  3</td>\n",
       "      <td>Rumiko Takahashi</td>\n",
       "      <td>4.08</td>\n",
       "      <td>spa</td>\n",
       "      <td>416</td>\n",
       "      <td>38</td>\n",
       "      <td>0</td>\n",
       "      <td>8/30/2005</td>\n",
       "      <td>Glénat</td>\n",
       "    </tr>\n",
       "    <tr>\n",
       "      <th>22831</th>\n",
       "      <td>The Return of Lum  Volume 1: Urusei Yatsura (U...</td>\n",
       "      <td>Rumiko Takahashi</td>\n",
       "      <td>4.11</td>\n",
       "      <td>eng</td>\n",
       "      <td>208</td>\n",
       "      <td>72</td>\n",
       "      <td>4</td>\n",
       "      <td>6/5/1995</td>\n",
       "      <td>Viz Media</td>\n",
       "    </tr>\n",
       "    <tr>\n",
       "      <th>22832</th>\n",
       "      <td>Lum: Urusei Yatsura. Perfect Collection (Uruse...</td>\n",
       "      <td>Rumiko Takahashi</td>\n",
       "      <td>3.97</td>\n",
       "      <td>eng</td>\n",
       "      <td>400</td>\n",
       "      <td>131</td>\n",
       "      <td>7</td>\n",
       "      <td>6/5/1997</td>\n",
       "      <td>Viz Media</td>\n",
       "    </tr>\n",
       "    <tr>\n",
       "      <th>22834</th>\n",
       "      <td>らんま½ 12</td>\n",
       "      <td>Rumiko Takahashi</td>\n",
       "      <td>4.06</td>\n",
       "      <td>jpn</td>\n",
       "      <td>176</td>\n",
       "      <td>0</td>\n",
       "      <td>0</td>\n",
       "      <td>9/18/2002</td>\n",
       "      <td>小学館 [Shōgakukan]</td>\n",
       "    </tr>\n",
       "    <tr>\n",
       "      <th>22835</th>\n",
       "      <td>Ranma 1/2  Vol. 12 (Ranma ½ (US 2nd)  #12)</td>\n",
       "      <td>Rumiko Takahashi</td>\n",
       "      <td>4.11</td>\n",
       "      <td>eng</td>\n",
       "      <td>200</td>\n",
       "      <td>1102</td>\n",
       "      <td>19</td>\n",
       "      <td>8/17/2004</td>\n",
       "      <td>VIZ Media LLC</td>\n",
       "    </tr>\n",
       "    <tr>\n",
       "      <th>22861</th>\n",
       "      <td>Your and My Secret  Vol. 1</td>\n",
       "      <td>Ai Morinaga</td>\n",
       "      <td>3.54</td>\n",
       "      <td>eng</td>\n",
       "      <td>174</td>\n",
       "      <td>406</td>\n",
       "      <td>31</td>\n",
       "      <td>7/6/2004</td>\n",
       "      <td>ADV Manga</td>\n",
       "    </tr>\n",
       "  </tbody>\n",
       "</table>\n",
       "</div>"
      ],
      "text/plain": [
       "                                                    title           authors  \\\n",
       "bookID                                                                        \n",
       "22804                                              犬夜叉 12  Rumiko Takahashi   \n",
       "22805                                              犬夜叉 17  Rumiko Takahashi   \n",
       "22807                                              犬夜叉 14  Rumiko Takahashi   \n",
       "22816                                              犬夜叉 10  Rumiko Takahashi   \n",
       "22817                                               犬夜叉 1  Rumiko Takahashi   \n",
       "22820                                             犬夜叉  27  Rumiko Takahashi   \n",
       "22821   The Return of Lum  Volume 3: Sweet Revenge (Ur...  Rumiko Takahashi   \n",
       "22822   The Return of Lum  Volume 5: Feudal Furor (Uru...  Rumiko Takahashi   \n",
       "22826                             Lamu: Urusei Yatsura  3  Rumiko Takahashi   \n",
       "22831   The Return of Lum  Volume 1: Urusei Yatsura (U...  Rumiko Takahashi   \n",
       "22832   Lum: Urusei Yatsura. Perfect Collection (Uruse...  Rumiko Takahashi   \n",
       "22834                                             らんま½ 12  Rumiko Takahashi   \n",
       "22835          Ranma 1/2  Vol. 12 (Ranma ½ (US 2nd)  #12)  Rumiko Takahashi   \n",
       "22861                          Your and My Secret  Vol. 1       Ai Morinaga   \n",
       "\n",
       "        average_rating language_code  num_pages  ratings_count  \\\n",
       "bookID                                                           \n",
       "22804             4.25           jpn        192             13   \n",
       "22805             4.25           jpn        192             14   \n",
       "22807             4.30           jpn        192             13   \n",
       "22816             4.28           jpn        192             15   \n",
       "22817             4.27           jpn        192             41   \n",
       "22820             4.28           jpn        192             12   \n",
       "22821             3.97           eng        216             32   \n",
       "22822             4.04           eng        200             27   \n",
       "22826             4.08           spa        416             38   \n",
       "22831             4.11           eng        208             72   \n",
       "22832             3.97           eng        400            131   \n",
       "22834             4.06           jpn        176              0   \n",
       "22835             4.11           eng        200           1102   \n",
       "22861             3.54           eng        174            406   \n",
       "\n",
       "        text_reviews_count publication_date          publisher  \n",
       "bookID                                                          \n",
       "22804                    0        9/18/1999                小学館  \n",
       "22805                    1         8/9/2000                小学館  \n",
       "22807                    1        2/18/2000                小学館  \n",
       "22816                    0        4/17/1999                小学館  \n",
       "22817                    3        4/18/1997                小学館  \n",
       "22820                    1        9/18/2002                小学館  \n",
       "22821                    1         3/8/1997          Viz Media  \n",
       "22822                    0        12/6/1997          Viz Media  \n",
       "22826                    0        8/30/2005             Glénat  \n",
       "22831                    4         6/5/1995          Viz Media  \n",
       "22832                    7         6/5/1997          Viz Media  \n",
       "22834                    0        9/18/2002  小学館 [Shōgakukan]  \n",
       "22835                   19        8/17/2004      VIZ Media LLC  \n",
       "22861                   31         7/6/2004          ADV Manga  "
      ]
     },
     "execution_count": 56,
     "metadata": {},
     "output_type": "execute_result"
    }
   ],
   "source": [
    "#print(df[df['bookID'] == 22802])\n",
    "df.iloc[6076:6090]"
   ]
  },
  {
   "cell_type": "code",
   "execution_count": 57,
   "id": "e17cc32e-cea8-43c6-ad4f-cc17b177052a",
   "metadata": {},
   "outputs": [
    {
     "name": "stdout",
     "output_type": "stream",
     "text": [
      "Index(['title', 'authors', 'average_rating', 'language_code', 'num_pages',\n",
      "       'ratings_count', 'text_reviews_count', 'publication_date', 'publisher'],\n",
      "      dtype='object')\n"
     ]
    }
   ],
   "source": [
    "print(df.columns)\n"
   ]
  },
  {
   "cell_type": "code",
   "execution_count": 58,
   "id": "04d2e208-4655-4820-b42c-beb303470e45",
   "metadata": {},
   "outputs": [
    {
     "data": {
      "text/html": [
       "<div>\n",
       "<style scoped>\n",
       "    .dataframe tbody tr th:only-of-type {\n",
       "        vertical-align: middle;\n",
       "    }\n",
       "\n",
       "    .dataframe tbody tr th {\n",
       "        vertical-align: top;\n",
       "    }\n",
       "\n",
       "    .dataframe thead th {\n",
       "        text-align: right;\n",
       "    }\n",
       "</style>\n",
       "<table border=\"1\" class=\"dataframe\">\n",
       "  <thead>\n",
       "    <tr style=\"text-align: right;\">\n",
       "      <th></th>\n",
       "      <th>title</th>\n",
       "      <th>authors</th>\n",
       "      <th>average_rating</th>\n",
       "      <th>language_code</th>\n",
       "      <th>num_pages</th>\n",
       "      <th>ratings_count</th>\n",
       "      <th>text_reviews_count</th>\n",
       "      <th>publication_date</th>\n",
       "      <th>publisher</th>\n",
       "    </tr>\n",
       "    <tr>\n",
       "      <th>bookID</th>\n",
       "      <th></th>\n",
       "      <th></th>\n",
       "      <th></th>\n",
       "      <th></th>\n",
       "      <th></th>\n",
       "      <th></th>\n",
       "      <th></th>\n",
       "      <th></th>\n",
       "      <th></th>\n",
       "    </tr>\n",
       "  </thead>\n",
       "  <tbody>\n",
       "    <tr>\n",
       "      <th>22802</th>\n",
       "      <td>犬夜叉 22</td>\n",
       "      <td>Rumiko Takahashi</td>\n",
       "      <td>4.25</td>\n",
       "      <td>jpn</td>\n",
       "      <td>192</td>\n",
       "      <td>13</td>\n",
       "      <td>1</td>\n",
       "      <td>8/9/2001</td>\n",
       "      <td>小学館</td>\n",
       "    </tr>\n",
       "    <tr>\n",
       "      <th>22803</th>\n",
       "      <td>犬夜叉 26</td>\n",
       "      <td>Rumiko Takahashi</td>\n",
       "      <td>4.28</td>\n",
       "      <td>jpn</td>\n",
       "      <td>192</td>\n",
       "      <td>11</td>\n",
       "      <td>1</td>\n",
       "      <td>6/18/2002</td>\n",
       "      <td>小学館</td>\n",
       "    </tr>\n",
       "    <tr>\n",
       "      <th>22804</th>\n",
       "      <td>犬夜叉 12</td>\n",
       "      <td>Rumiko Takahashi</td>\n",
       "      <td>4.25</td>\n",
       "      <td>jpn</td>\n",
       "      <td>192</td>\n",
       "      <td>13</td>\n",
       "      <td>0</td>\n",
       "      <td>9/18/1999</td>\n",
       "      <td>小学館</td>\n",
       "    </tr>\n",
       "    <tr>\n",
       "      <th>22805</th>\n",
       "      <td>犬夜叉 17</td>\n",
       "      <td>Rumiko Takahashi</td>\n",
       "      <td>4.25</td>\n",
       "      <td>jpn</td>\n",
       "      <td>192</td>\n",
       "      <td>14</td>\n",
       "      <td>1</td>\n",
       "      <td>8/9/2000</td>\n",
       "      <td>小学館</td>\n",
       "    </tr>\n",
       "    <tr>\n",
       "      <th>22807</th>\n",
       "      <td>犬夜叉 14</td>\n",
       "      <td>Rumiko Takahashi</td>\n",
       "      <td>4.30</td>\n",
       "      <td>jpn</td>\n",
       "      <td>192</td>\n",
       "      <td>13</td>\n",
       "      <td>1</td>\n",
       "      <td>2/18/2000</td>\n",
       "      <td>小学館</td>\n",
       "    </tr>\n",
       "  </tbody>\n",
       "</table>\n",
       "</div>"
      ],
      "text/plain": [
       "         title           authors  average_rating language_code  num_pages  \\\n",
       "bookID                                                                      \n",
       "22802   犬夜叉 22  Rumiko Takahashi            4.25           jpn        192   \n",
       "22803   犬夜叉 26  Rumiko Takahashi            4.28           jpn        192   \n",
       "22804   犬夜叉 12  Rumiko Takahashi            4.25           jpn        192   \n",
       "22805   犬夜叉 17  Rumiko Takahashi            4.25           jpn        192   \n",
       "22807   犬夜叉 14  Rumiko Takahashi            4.30           jpn        192   \n",
       "\n",
       "        ratings_count  text_reviews_count publication_date publisher  \n",
       "bookID                                                                \n",
       "22802              13                   1         8/9/2001       小学館  \n",
       "22803              11                   1        6/18/2002       小学館  \n",
       "22804              13                   0        9/18/1999       小学館  \n",
       "22805              14                   1         8/9/2000       小学館  \n",
       "22807              13                   1        2/18/2000       小学館  "
      ]
     },
     "execution_count": 58,
     "metadata": {},
     "output_type": "execute_result"
    }
   ],
   "source": [
    "df.loc[22802:22810]"
   ]
  },
  {
   "cell_type": "code",
   "execution_count": 59,
   "id": "3c10cf5b-0698-4f73-beff-eea559844084",
   "metadata": {},
   "outputs": [
    {
     "data": {
      "text/plain": [
       "title                 Harry Potter and the Order of the Phoenix (Har...\n",
       "authors                                      J.K. Rowling/Mary GrandPré\n",
       "average_rating                                                     4.49\n",
       "language_code                                                       eng\n",
       "num_pages                                                           870\n",
       "ratings_count                                                   2153167\n",
       "text_reviews_count                                                29221\n",
       "publication_date                                               9/1/2004\n",
       "publisher                                               Scholastic Inc.\n",
       "Name: 2, dtype: object"
      ]
     },
     "execution_count": 59,
     "metadata": {},
     "output_type": "execute_result"
    }
   ],
   "source": [
    "#far left's indexing starts from 0\n",
    "df.iloc[1]"
   ]
  },
  {
   "cell_type": "code",
   "execution_count": 60,
   "id": "3d74c04c-4708-456f-a011-e9dbd852370d",
   "metadata": {
    "scrolled": true
   },
   "outputs": [
    {
     "data": {
      "text/plain": [
       "title                 Harry Potter and the Half-Blood Prince (Harry ...\n",
       "authors                                      J.K. Rowling/Mary GrandPré\n",
       "average_rating                                                     4.57\n",
       "language_code                                                       eng\n",
       "num_pages                                                           652\n",
       "ratings_count                                                   2095690\n",
       "text_reviews_count                                                27591\n",
       "publication_date                                              9/16/2006\n",
       "publisher                                               Scholastic Inc.\n",
       "Name: 1, dtype: object"
      ]
     },
     "execution_count": 60,
     "metadata": {},
     "output_type": "execute_result"
    }
   ],
   "source": [
    "#position of the index of the column set as index_col (this case = bookID)\n",
    "df.loc[1]"
   ]
  },
  {
   "cell_type": "code",
   "execution_count": 61,
   "id": "552a8f7f-d07f-4d19-91cb-f2b839ea3ffe",
   "metadata": {},
   "outputs": [
    {
     "data": {
      "text/plain": [
       "numpy.float64"
      ]
     },
     "execution_count": 61,
     "metadata": {},
     "output_type": "execute_result"
    }
   ],
   "source": [
    "type(df.loc[2]['average_rating'])"
   ]
  },
  {
   "cell_type": "markdown",
   "id": "25efb2c7-6be6-4a80-aec9-b7402be2f599",
   "metadata": {},
   "source": [
    "Visualize the influence of publisher on average rating"
   ]
  },
  {
   "cell_type": "code",
   "execution_count": 63,
   "id": "38137430-bd4d-4092-a100-5b3252aa2dee",
   "metadata": {},
   "outputs": [
    {
     "name": "stderr",
     "output_type": "stream",
     "text": [
      "/opt/anaconda3/lib/python3.11/site-packages/IPython/core/pylabtools.py:152: UserWarning: Glyph 30343 (\\N{CJK UNIFIED IDEOGRAPH-7687}) missing from current font.\n",
      "  fig.canvas.print_figure(bytes_io, **kw)\n",
      "/opt/anaconda3/lib/python3.11/site-packages/IPython/core/pylabtools.py:152: UserWarning: Glyph 20896 (\\N{CJK UNIFIED IDEOGRAPH-51A0}) missing from current font.\n",
      "  fig.canvas.print_figure(bytes_io, **kw)\n",
      "/opt/anaconda3/lib/python3.11/site-packages/IPython/core/pylabtools.py:152: UserWarning: Glyph 25991 (\\N{CJK UNIFIED IDEOGRAPH-6587}) missing from current font.\n",
      "  fig.canvas.print_figure(bytes_io, **kw)\n",
      "/opt/anaconda3/lib/python3.11/site-packages/IPython/core/pylabtools.py:152: UserWarning: Glyph 21270 (\\N{CJK UNIFIED IDEOGRAPH-5316}) missing from current font.\n",
      "  fig.canvas.print_figure(bytes_io, **kw)\n",
      "/opt/anaconda3/lib/python3.11/site-packages/IPython/core/pylabtools.py:152: UserWarning: Glyph 20986 (\\N{CJK UNIFIED IDEOGRAPH-51FA}) missing from current font.\n",
      "  fig.canvas.print_figure(bytes_io, **kw)\n",
      "/opt/anaconda3/lib/python3.11/site-packages/IPython/core/pylabtools.py:152: UserWarning: Glyph 29256 (\\N{CJK UNIFIED IDEOGRAPH-7248}) missing from current font.\n",
      "  fig.canvas.print_figure(bytes_io, **kw)\n",
      "/opt/anaconda3/lib/python3.11/site-packages/IPython/core/pylabtools.py:152: UserWarning: Glyph 26377 (\\N{CJK UNIFIED IDEOGRAPH-6709}) missing from current font.\n",
      "  fig.canvas.print_figure(bytes_io, **kw)\n",
      "/opt/anaconda3/lib/python3.11/site-packages/IPython/core/pylabtools.py:152: UserWarning: Glyph 38480 (\\N{CJK UNIFIED IDEOGRAPH-9650}) missing from current font.\n",
      "  fig.canvas.print_figure(bytes_io, **kw)\n",
      "/opt/anaconda3/lib/python3.11/site-packages/IPython/core/pylabtools.py:152: UserWarning: Glyph 20844 (\\N{CJK UNIFIED IDEOGRAPH-516C}) missing from current font.\n",
      "  fig.canvas.print_figure(bytes_io, **kw)\n",
      "/opt/anaconda3/lib/python3.11/site-packages/IPython/core/pylabtools.py:152: UserWarning: Glyph 21496 (\\N{CJK UNIFIED IDEOGRAPH-53F8}) missing from current font.\n",
      "  fig.canvas.print_figure(bytes_io, **kw)\n",
      "/opt/anaconda3/lib/python3.11/site-packages/IPython/core/pylabtools.py:152: UserWarning: Glyph 26481 (\\N{CJK UNIFIED IDEOGRAPH-6771}) missing from current font.\n",
      "  fig.canvas.print_figure(bytes_io, **kw)\n",
      "/opt/anaconda3/lib/python3.11/site-packages/IPython/core/pylabtools.py:152: UserWarning: Glyph 31435 (\\N{CJK UNIFIED IDEOGRAPH-7ACB}) missing from current font.\n",
      "  fig.canvas.print_figure(bytes_io, **kw)\n",
      "/opt/anaconda3/lib/python3.11/site-packages/IPython/core/pylabtools.py:152: UserWarning: Glyph 12460 (\\N{KATAKANA LETTER GA}) missing from current font.\n",
      "  fig.canvas.print_figure(bytes_io, **kw)\n",
      "/opt/anaconda3/lib/python3.11/site-packages/IPython/core/pylabtools.py:152: UserWarning: Glyph 12531 (\\N{KATAKANA LETTER N}) missing from current font.\n",
      "  fig.canvas.print_figure(bytes_io, **kw)\n",
      "/opt/anaconda3/lib/python3.11/site-packages/IPython/core/pylabtools.py:152: UserWarning: Glyph 12467 (\\N{KATAKANA LETTER KO}) missing from current font.\n",
      "  fig.canvas.print_figure(bytes_io, **kw)\n",
      "/opt/anaconda3/lib/python3.11/site-packages/IPython/core/pylabtools.py:152: UserWarning: Glyph 12511 (\\N{KATAKANA LETTER MI}) missing from current font.\n",
      "  fig.canvas.print_figure(bytes_io, **kw)\n",
      "/opt/anaconda3/lib/python3.11/site-packages/IPython/core/pylabtools.py:152: UserWarning: Glyph 12483 (\\N{KATAKANA LETTER SMALL TU}) missing from current font.\n",
      "  fig.canvas.print_figure(bytes_io, **kw)\n",
      "/opt/anaconda3/lib/python3.11/site-packages/IPython/core/pylabtools.py:152: UserWarning: Glyph 12463 (\\N{KATAKANA LETTER KU}) missing from current font.\n",
      "  fig.canvas.print_figure(bytes_io, **kw)\n",
      "/opt/anaconda3/lib/python3.11/site-packages/IPython/core/pylabtools.py:152: UserWarning: Glyph 12473 (\\N{KATAKANA LETTER SU}) missing from current font.\n",
      "  fig.canvas.print_figure(bytes_io, **kw)\n"
     ]
    },
    {
     "data": {
      "image/png": "[encoded data removed]",
      "text/plain": [
       "<Figure size 1000x800 with 1 Axes>"
      ]
     },
     "metadata": {},
     "output_type": "display_data"
    },
    {
     "ename": "NameError",
     "evalue": "name 'f_oneway' is not defined",
     "output_type": "error",
     "traceback": [
      "\u001b[0;31m---------------------------------------------------------------------------\u001b[0m",
      "\u001b[0;31mNameError\u001b[0m                                 Traceback (most recent call last)",
      "Cell \u001b[0;32mIn[63], line 20\u001b[0m\n\u001b[1;32m     18\u001b[0m \u001b[38;5;66;03m# Perform ANOVA test to see if the differences in ratings are statistically significant\u001b[39;00m\n\u001b[1;32m     19\u001b[0m grouped_ratings \u001b[38;5;241m=\u001b[39m [group[\u001b[38;5;124m'\u001b[39m\u001b[38;5;124maverage_rating\u001b[39m\u001b[38;5;124m'\u001b[39m]\u001b[38;5;241m.\u001b[39mvalues \u001b[38;5;28;01mfor\u001b[39;00m name, group \u001b[38;5;129;01min\u001b[39;00m df_filtered\u001b[38;5;241m.\u001b[39mgroupby(\u001b[38;5;124m'\u001b[39m\u001b[38;5;124mpublisher\u001b[39m\u001b[38;5;124m'\u001b[39m)]\n\u001b[0;32m---> 20\u001b[0m anova_result \u001b[38;5;241m=\u001b[39m f_oneway(\u001b[38;5;241m*\u001b[39mgrouped_ratings)\n\u001b[1;32m     22\u001b[0m \u001b[38;5;28mprint\u001b[39m(\u001b[38;5;124mf\u001b[39m\u001b[38;5;124m\"\u001b[39m\u001b[38;5;124mANOVA test result: F=\u001b[39m\u001b[38;5;132;01m{\u001b[39;00manova_result\u001b[38;5;241m.\u001b[39mstatistic\u001b[38;5;132;01m}\u001b[39;00m\u001b[38;5;124m, p=\u001b[39m\u001b[38;5;132;01m{\u001b[39;00manova_result\u001b[38;5;241m.\u001b[39mpvalue\u001b[38;5;132;01m}\u001b[39;00m\u001b[38;5;124m\"\u001b[39m)\n",
      "\u001b[0;31mNameError\u001b[0m: name 'f_oneway' is not defined"
     ]
    }
   ],
   "source": [
    "\n",
    "# Calculate the average rating for each publisher\n",
    "publisher_ratings = df.groupby('publisher')['average_rating'].mean().reset_index()\n",
    "\n",
    "# Sort publishers by average rating in descending order and select the top 50\n",
    "top_publishers = publisher_ratings.sort_values(by='average_rating', ascending=False).head(50)\n",
    "\n",
    "# Plot the average ratings by publisher for the top 50\n",
    "plt.figure(figsize=(10, 8))\n",
    "sns.barplot(x='average_rating', y='publisher', data=top_publishers)\n",
    "plt.title('Average Book Rating by Publisher (Top 50)')\n",
    "plt.xlabel('Average Rating')\n",
    "plt.ylabel('Publisher')\n",
    "plt.show()\n",
    "\n",
    "# Filter the original DataFrame to include only the top 50 publishers\n",
    "df_filtered = df[df['publisher'].isin(top_publishers['publisher'])]\n",
    "\n",
    "# Perform ANOVA test to see if the differences in ratings are statistically significant\n",
    "grouped_ratings = [group['average_rating'].values for name, group in df_filtered.groupby('publisher')]\n",
    "anova_result = f_oneway(*grouped_ratings)\n",
    "\n",
    "print(f\"ANOVA test result: F={anova_result.statistic}, p={anova_result.pvalue}\")"
   ]
  },
  {
   "cell_type": "code",
   "execution_count": null,
   "id": "d19b807c-6f7c-4c5e-ba1f-051fc738d85b",
   "metadata": {},
   "outputs": [],
   "source": []
  },
  {
   "cell_type": "code",
   "execution_count": null,
   "id": "fa6decf2-d9ea-4b42-9638-d4680accd151",
   "metadata": {},
   "outputs": [],
   "source": []
  },
  {
   "cell_type": "code",
   "execution_count": null,
   "id": "050c798d-f7c0-467c-b96a-1a0f7d93c4d3",
   "metadata": {},
   "outputs": [],
   "source": []
  }
 ],
 "metadata": {
  "kernelspec": {
   "display_name": "Python 3 (ipykernel)",
   "language": "python",
   "name": "python3"
  },
  "language_info": {
   "codemirror_mode": {
    "name": "ipython",
    "version": 3
   },
   "file_extension": ".py",
   "mimetype": "text/x-python",
   "name": "python",
   "nbconvert_exporter": "python",
   "pygments_lexer": "ipython3",
   "version": "3.11.7"
  }
 },
 "nbformat": 4,
 "nbformat_minor": 5
}
