import numpy as np
import pandas as pd
import matplotlib.pyplot as plt
import seaborn as sns
import missingno as ms


df = pd.read_csv("data_selection1.csv",index_col=0)


df.head()


X = df.drop("average_rating",axis=1)
y = df["average_rating"]


X.head()


y.head()


from sklearn.tree import DecisionTreeRegressor
from sklearn.model_selection import train_test_split


X_train, X_test, y_train, y_test= train_test_split(X,y, test_size=0.2,random_state=101)
X_train.shape, X_test.shape, y_train.shape, y_test.shape


model = DecisionTreeRegressor(random_state=101)
model.fit(X_train, y_train)
abs(model.score(X_test, y_test))


df2 = df.copy()
df2.head()


df2.drop(["eng", "fre", "others", "spa"], axis=1, inplace=True)


df2['publication_year'] = df2['publication_year'].astype(int)
df2.head()


df3 = pd.read_csv("language_code.csv", index_col=0).reset_index(drop=True)
df3.head()


set(df3.language_code)


df3.nunique()


from sklearn.preprocessing import LabelEncoder


data = pd.concat([df2, df3], axis=1)
data.head()


encoder =  LabelEncoder()
data['language_code'] = encoder.fit_transform(data['language_code'] )


data.head()


set(data.language_code)


X_features = data.drop('average_rating', axis=1)
y_target = data["average_rating"]


X_features.head()


y_target.head()


X_train_1, X_test_1, y_train_1, y_test_1 = train_test_split(X_features, y_target, test_size=0.2, random_state=0)


X_train_1.shape, X_test_1.shape, y_train_1.shape, y_test_1.shape


model2 = DecisionTreeRegressor(random_state=0)
model2.fit(X_train_1, y_train_1)
abs(model2.score(X_test_1, y_test_1))


X_features_2 = X_features.drop('language_code', axis=1)
y_target_2 = y_target


X_features_2.head()


y_target_2.head()


from sklearn.pipeline import make_pipeline
from sklearn.preprocessing import StandardScaler, MinMaxScaler, RobustScaler, PolynomialFeatures


X_train_2, X_test_2, y_train_2, y_test_2 = train_test_split(X_features_2, y_target_2, test_size=0.2, random_state=0)


X_train_2.shape, X_test_2.shape, y_train_2.shape, y_test_2.shape


model3 = make_pipeline(MinMaxScaler(), PolynomialFeatures(degree=4), DecisionTreeRegressor(random_state=0))
model3.fit(X_train_2, y_train_2)
abs(model3.score(X_test_2, y_test_2))



